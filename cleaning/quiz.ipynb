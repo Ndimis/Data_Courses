{
 "cells": [
  {
   "cell_type": "markdown",
   "metadata": {},
   "source": [
    "<h1 align=\"center\"> QUIZ </h1>"
   ]
  },
  {
   "cell_type": "code",
   "execution_count": null,
   "metadata": {},
   "outputs": [],
   "source": [
    "import pandas as pd\n",
    "import numpy as np\n",
    "import scipy.stats as st\n",
    "\n",
    "data = pd.read_csv('../datas/quiz.csv', delimiter=\";\")\n",
    "data.head()"
   ]
  },
  {
   "cell_type": "markdown",
   "metadata": {},
   "source": [
    "##### Q1 : quel département n'appartenant pas à cette liste apparaît pourtant dans notre jeu de données ?"
   ]
  },
  {
   "cell_type": "code",
   "execution_count": null,
   "metadata": {},
   "outputs": [],
   "source": [
    "departement = [76,27,14]\n",
    "\n",
    "result = data.loc[~data['Dept'].isin(departement), 'Dept']\n",
    "result # Réponse 78"
   ]
  },
  {
   "cell_type": "markdown",
   "metadata": {},
   "source": [
    "##### Q2 : Notre jeu de données contient plusieurs valeurs manquantes.  Determinez combien exactement et combien de variables sont concernées :"
   ]
  },
  {
   "cell_type": "code",
   "execution_count": null,
   "metadata": {},
   "outputs": [],
   "source": [
    "print(data.isnull().sum())\n",
    "print(data.loc[data['Position'] == 251, :])\n",
    "# Il ya deux variables , Sexe (2 valeurs manquantes), Age (4 valeurs manquantes)"
   ]
  },
  {
   "cell_type": "markdown",
   "metadata": {},
   "source": [
    "##### Q3 : Essayez de convertir la variable Temps dans un format adapté (datetime, par exemple)"
   ]
  },
  {
   "cell_type": "code",
   "execution_count": null,
   "metadata": {},
   "outputs": [],
   "source": [
    "data['Temps'] = pd.to_datetime(data['Temps'], format='%d/%m/%Y', errors='coerce')\n",
    "print(data.isnull().sum())\n",
    "print(data.loc[data['Temps'].isnull(), :])\n",
    "data.head() \n",
    "#Reponse Irrégularité"
   ]
  },
  {
   "cell_type": "markdown",
   "metadata": {},
   "source": [
    "##### Q4 : En regardant les variables quantitatives (Position, Age et Temps_secondes), combien d'outliers se trouvent dans notre jeu de données au total ?"
   ]
  },
  {
   "cell_type": "code",
   "execution_count": null,
   "metadata": {},
   "outputs": [],
   "source": [
    "#Trouver les outliner pour la position :\n",
    "position = data.loc[(data['Position'] < 1) | (data['Position'] > 340), :].shape[0]\n",
    "#Trouver les outliner pour la l'age :\n",
    "#position = data.loc[(data['Position'] < 1) | (data['Position'] > 340), :].shape[0]\n",
    "#Trouver les outliner pour le Temps_sec :\n",
    "#position = data.loc[(data['Position'] < 1) | (data['Position'] > 340), :].shape[0]\n",
    "#Réponse 2 sur la position"
   ]
  },
  {
   "cell_type": "markdown",
   "metadata": {},
   "source": [
    "##### Q5 : Notre jeu de données possède-t-il des doublons ?"
   ]
  },
  {
   "cell_type": "code",
   "execution_count": null,
   "metadata": {},
   "outputs": [
    {
     "ename": "",
     "evalue": "",
     "output_type": "error",
     "traceback": [
      "\u001b[1;31mThe Kernel crashed while executing code in the current cell or a previous cell. \n",
      "\u001b[1;31mPlease review the code in the cell(s) to identify a possible cause of the failure. \n",
      "\u001b[1;31mClick <a href='https://aka.ms/vscodeJupyterKernelCrash'>here</a> for more info. \n",
      "\u001b[1;31mView Jupyter <a href='command:jupyter.viewOutput'>log</a> for further details."
     ]
    }
   ],
   "source": [
    "data.loc[data[:].duplicated(keep=False),:]"
   ]
  }
 ],
 "metadata": {
  "kernelspec": {
   "display_name": "Python 3",
   "language": "python",
   "name": "python3"
  },
  "language_info": {
   "codemirror_mode": {
    "name": "ipython",
    "version": 3
   },
   "file_extension": ".py",
   "mimetype": "text/x-python",
   "name": "python",
   "nbconvert_exporter": "python",
   "pygments_lexer": "ipython3",
   "version": "3.12.3"
  }
 },
 "nbformat": 4,
 "nbformat_minor": 2
}
