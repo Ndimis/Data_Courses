{
 "cells": [
  {
   "cell_type": "markdown",
   "metadata": {},
   "source": [
    "# Nettoyage de donnée"
   ]
  },
  {
   "cell_type": "code",
   "execution_count": null,
   "metadata": {},
   "outputs": [],
   "source": [
    "import pandas as pd\n",
    "import numpy as np  \n",
    "import re\n",
    "\n",
    "data = pd.read_csv('../datas/personnes.csv')\n",
    "\n",
    "data.head()"
   ]
  },
  {
   "cell_type": "markdown",
   "metadata": {},
   "source": [
    "### Detecter les erreurs"
   ]
  },
  {
   "cell_type": "markdown",
   "metadata": {},
   "source": [
    "####  Les valeurs manquantes : isnull()"
   ]
  },
  {
   "cell_type": "code",
   "execution_count": null,
   "metadata": {},
   "outputs": [],
   "source": [
    "print(data.isnull().sum())"
   ]
  },
  {
   "cell_type": "markdown",
   "metadata": {},
   "source": [
    "#### Les doublons : .duplicated()"
   ]
  },
  {
   "cell_type": "code",
   "execution_count": null,
   "metadata": {},
   "outputs": [],
   "source": [
    "data.loc[data['email'].duplicated(keep=False),:]"
   ]
  },
  {
   "cell_type": "markdown",
   "metadata": {},
   "source": [
    "### Traiter les erreurs"
   ]
  },
  {
   "cell_type": "markdown",
   "metadata": {},
   "source": [
    "#### Remplacer la valeur manquante"
   ]
  },
  {
   "cell_type": "code",
   "execution_count": null,
   "metadata": {},
   "outputs": [],
   "source": [
    "#Remplacer la valeur\n",
    "#mask = condition à vérifier pour cibler spécifiquement certaines lignes\n",
    "#data.loc[mask, 'ma_colonne'] = nouvelles_valeurs\n",
    "data.loc[data['pays'].isnull(), 'pays'] = 'Cameroun'\n",
    "data"
   ]
  },
  {
   "cell_type": "markdown",
   "metadata": {},
   "source": [
    "#### Traiter les pays"
   ]
  },
  {
   "cell_type": "code",
   "execution_count": null,
   "metadata": {},
   "outputs": [],
   "source": [
    "#On crée une liste des valeurs attendues, puis on comparer, s'il n'existe pas on remplace par NaN\n",
    "VALID_COUNTRIES = ['France', 'Côte d\\'ivoire', 'Madagascar', 'Bénin', 'Allemagne'\n",
    "                  , 'USA', 'Cameroun']\n",
    "mask = ~data['pays'].isin(VALID_COUNTRIES)\n",
    "data.loc[mask, 'pays'] = np.NaN\n",
    "data"
   ]
  },
  {
   "cell_type": "markdown",
   "metadata": {},
   "source": [
    "#### Traiter la ligne avec deux adresses emails :"
   ]
  },
  {
   "cell_type": "code",
   "execution_count": null,
   "metadata": {},
   "outputs": [],
   "source": [
    "data['email'] = data['email'].str.split(',', n=1, expand=True)[0]\n",
    "data"
   ]
  },
  {
   "cell_type": "markdown",
   "metadata": {},
   "source": [
    "#### Traiter les tailles"
   ]
  },
  {
   "cell_type": "code",
   "execution_count": null,
   "metadata": {},
   "outputs": [],
   "source": [
    "#Convertir les tailles en nombres décimaux\n",
    "data['taille'] = data['taille'].str[:-1]\n",
    "data['taille'] = pd.to_numeric(data['taille'], errors='coerce')\n",
    "data"
   ]
  },
  {
   "cell_type": "code",
   "execution_count": 20,
   "metadata": {},
   "outputs": [
    {
     "data": {
      "text/html": [
       "<div>\n",
       "<style scoped>\n",
       "    .dataframe tbody tr th:only-of-type {\n",
       "        vertical-align: middle;\n",
       "    }\n",
       "\n",
       "    .dataframe tbody tr th {\n",
       "        vertical-align: top;\n",
       "    }\n",
       "\n",
       "    .dataframe thead th {\n",
       "        text-align: right;\n",
       "    }\n",
       "</style>\n",
       "<table border=\"1\" class=\"dataframe\">\n",
       "  <thead>\n",
       "    <tr style=\"text-align: right;\">\n",
       "      <th></th>\n",
       "      <th>prenom</th>\n",
       "      <th>email</th>\n",
       "      <th>date_naissance</th>\n",
       "      <th>pays</th>\n",
       "      <th>taille</th>\n",
       "    </tr>\n",
       "  </thead>\n",
       "  <tbody>\n",
       "    <tr>\n",
       "      <th>0</th>\n",
       "      <td>Leila</td>\n",
       "      <td>leila@example.com</td>\n",
       "      <td>23/01/1990</td>\n",
       "      <td>France</td>\n",
       "      <td>1.490000</td>\n",
       "    </tr>\n",
       "    <tr>\n",
       "      <th>1</th>\n",
       "      <td>Samuel</td>\n",
       "      <td>samuel_329@example.com</td>\n",
       "      <td>20/09/2001</td>\n",
       "      <td>Cameroun</td>\n",
       "      <td>1.670000</td>\n",
       "    </tr>\n",
       "    <tr>\n",
       "      <th>2</th>\n",
       "      <td>Radia</td>\n",
       "      <td>choupipoune@supermail.eu</td>\n",
       "      <td>12 sept. 1984</td>\n",
       "      <td>Côte d'ivoire</td>\n",
       "      <td>1.841667</td>\n",
       "    </tr>\n",
       "    <tr>\n",
       "      <th>3</th>\n",
       "      <td>Marc</td>\n",
       "      <td>marco23@example.com</td>\n",
       "      <td>10/02/1978</td>\n",
       "      <td>France</td>\n",
       "      <td>1.650000</td>\n",
       "    </tr>\n",
       "    <tr>\n",
       "      <th>4</th>\n",
       "      <td>Heri</td>\n",
       "      <td>helloworld@supermail.eu</td>\n",
       "      <td>05/03/2008</td>\n",
       "      <td>Madagascar</td>\n",
       "      <td>1.340000</td>\n",
       "    </tr>\n",
       "    <tr>\n",
       "      <th>5</th>\n",
       "      <td>Hanna</td>\n",
       "      <td>hanna2019@supermail.eu</td>\n",
       "      <td>01/01/1970</td>\n",
       "      <td>NaN</td>\n",
       "      <td>3.450000</td>\n",
       "    </tr>\n",
       "    <tr>\n",
       "      <th>6</th>\n",
       "      <td>samuël</td>\n",
       "      <td>samuel_329@example.com</td>\n",
       "      <td>NaN</td>\n",
       "      <td>Bénin</td>\n",
       "      <td>1.450000</td>\n",
       "    </tr>\n",
       "  </tbody>\n",
       "</table>\n",
       "</div>"
      ],
      "text/plain": [
       "   prenom                     email date_naissance           pays    taille\n",
       "0   Leila         leila@example.com     23/01/1990         France  1.490000\n",
       "1  Samuel    samuel_329@example.com     20/09/2001       Cameroun  1.670000\n",
       "2   Radia  choupipoune@supermail.eu  12 sept. 1984  Côte d'ivoire  1.841667\n",
       "3    Marc       marco23@example.com     10/02/1978         France  1.650000\n",
       "4    Heri   helloworld@supermail.eu     05/03/2008     Madagascar  1.340000\n",
       "5   Hanna    hanna2019@supermail.eu     01/01/1970            NaN  3.450000\n",
       "6  samuël    samuel_329@example.com            NaN          Bénin  1.450000"
      ]
     },
     "execution_count": 20,
     "metadata": {},
     "output_type": "execute_result"
    }
   ],
   "source": [
    "#remplacer les valeurs manquantes par la moyenne de la variable\n",
    "data.loc[data['taille'].isnull(), 'taille'] = data['taille'].mean()\n",
    "data"
   ]
  },
  {
   "cell_type": "markdown",
   "metadata": {},
   "source": [
    "#### Traiter les dates"
   ]
  },
  {
   "cell_type": "code",
   "execution_count": 21,
   "metadata": {},
   "outputs": [
    {
     "data": {
      "text/html": [
       "<div>\n",
       "<style scoped>\n",
       "    .dataframe tbody tr th:only-of-type {\n",
       "        vertical-align: middle;\n",
       "    }\n",
       "\n",
       "    .dataframe tbody tr th {\n",
       "        vertical-align: top;\n",
       "    }\n",
       "\n",
       "    .dataframe thead th {\n",
       "        text-align: right;\n",
       "    }\n",
       "</style>\n",
       "<table border=\"1\" class=\"dataframe\">\n",
       "  <thead>\n",
       "    <tr style=\"text-align: right;\">\n",
       "      <th></th>\n",
       "      <th>prenom</th>\n",
       "      <th>email</th>\n",
       "      <th>date_naissance</th>\n",
       "      <th>pays</th>\n",
       "      <th>taille</th>\n",
       "    </tr>\n",
       "  </thead>\n",
       "  <tbody>\n",
       "    <tr>\n",
       "      <th>0</th>\n",
       "      <td>Leila</td>\n",
       "      <td>leila@example.com</td>\n",
       "      <td>1990-01-23</td>\n",
       "      <td>France</td>\n",
       "      <td>1.490000</td>\n",
       "    </tr>\n",
       "    <tr>\n",
       "      <th>1</th>\n",
       "      <td>Samuel</td>\n",
       "      <td>samuel_329@example.com</td>\n",
       "      <td>2001-09-20</td>\n",
       "      <td>Cameroun</td>\n",
       "      <td>1.670000</td>\n",
       "    </tr>\n",
       "    <tr>\n",
       "      <th>2</th>\n",
       "      <td>Radia</td>\n",
       "      <td>choupipoune@supermail.eu</td>\n",
       "      <td>NaT</td>\n",
       "      <td>Côte d'ivoire</td>\n",
       "      <td>1.841667</td>\n",
       "    </tr>\n",
       "    <tr>\n",
       "      <th>3</th>\n",
       "      <td>Marc</td>\n",
       "      <td>marco23@example.com</td>\n",
       "      <td>1978-02-10</td>\n",
       "      <td>France</td>\n",
       "      <td>1.650000</td>\n",
       "    </tr>\n",
       "    <tr>\n",
       "      <th>4</th>\n",
       "      <td>Heri</td>\n",
       "      <td>helloworld@supermail.eu</td>\n",
       "      <td>2008-03-05</td>\n",
       "      <td>Madagascar</td>\n",
       "      <td>1.340000</td>\n",
       "    </tr>\n",
       "    <tr>\n",
       "      <th>5</th>\n",
       "      <td>Hanna</td>\n",
       "      <td>hanna2019@supermail.eu</td>\n",
       "      <td>1970-01-01</td>\n",
       "      <td>NaN</td>\n",
       "      <td>3.450000</td>\n",
       "    </tr>\n",
       "    <tr>\n",
       "      <th>6</th>\n",
       "      <td>samuël</td>\n",
       "      <td>samuel_329@example.com</td>\n",
       "      <td>NaT</td>\n",
       "      <td>Bénin</td>\n",
       "      <td>1.450000</td>\n",
       "    </tr>\n",
       "  </tbody>\n",
       "</table>\n",
       "</div>"
      ],
      "text/plain": [
       "   prenom                     email date_naissance           pays    taille\n",
       "0   Leila         leila@example.com     1990-01-23         France  1.490000\n",
       "1  Samuel    samuel_329@example.com     2001-09-20       Cameroun  1.670000\n",
       "2   Radia  choupipoune@supermail.eu            NaT  Côte d'ivoire  1.841667\n",
       "3    Marc       marco23@example.com     1978-02-10         France  1.650000\n",
       "4    Heri   helloworld@supermail.eu     2008-03-05     Madagascar  1.340000\n",
       "5   Hanna    hanna2019@supermail.eu     1970-01-01            NaN  3.450000\n",
       "6  samuël    samuel_329@example.com            NaT          Bénin  1.450000"
      ]
     },
     "execution_count": 21,
     "metadata": {},
     "output_type": "execute_result"
    }
   ],
   "source": [
    "data['date_naissance'] = pd.to_datetime(data['date_naissance'], format='%d/%m/%Y', errors='coerce')\n",
    "data"
   ]
  }
 ],
 "metadata": {
  "kernelspec": {
   "display_name": "Python 3",
   "language": "python",
   "name": "python3"
  },
  "language_info": {
   "codemirror_mode": {
    "name": "ipython",
    "version": 3
   },
   "file_extension": ".py",
   "mimetype": "text/x-python",
   "name": "python",
   "nbconvert_exporter": "python",
   "pygments_lexer": "ipython3",
   "version": "3.12.3"
  }
 },
 "nbformat": 4,
 "nbformat_minor": 2
}
