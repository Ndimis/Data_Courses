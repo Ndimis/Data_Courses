{
 "cells": [
  {
   "cell_type": "markdown",
   "metadata": {},
   "source": [
    "# Pandas : Filter les données"
   ]
  },
  {
   "cell_type": "code",
   "execution_count": 2,
   "metadata": {},
   "outputs": [
    {
     "data": {
      "text/html": [
       "<div>\n",
       "<style scoped>\n",
       "    .dataframe tbody tr th:only-of-type {\n",
       "        vertical-align: middle;\n",
       "    }\n",
       "\n",
       "    .dataframe tbody tr th {\n",
       "        vertical-align: top;\n",
       "    }\n",
       "\n",
       "    .dataframe thead th {\n",
       "        text-align: right;\n",
       "    }\n",
       "</style>\n",
       "<table border=\"1\" class=\"dataframe\">\n",
       "  <thead>\n",
       "    <tr style=\"text-align: right;\">\n",
       "      <th></th>\n",
       "      <th>identifiant</th>\n",
       "      <th>email</th>\n",
       "      <th>nom</th>\n",
       "      <th>genre</th>\n",
       "      <th>achats</th>\n",
       "      <th>dépenses</th>\n",
       "    </tr>\n",
       "  </thead>\n",
       "  <tbody>\n",
       "    <tr>\n",
       "      <th>0</th>\n",
       "      <td>0</td>\n",
       "      <td>LaurentDagenais@rhyta.com</td>\n",
       "      <td>Laurent Dagenais</td>\n",
       "      <td>M</td>\n",
       "      <td>145000</td>\n",
       "      <td>45000</td>\n",
       "    </tr>\n",
       "    <tr>\n",
       "      <th>1</th>\n",
       "      <td>1</td>\n",
       "      <td>GuyMarois@fleckens.hu</td>\n",
       "      <td>Guy Marois</td>\n",
       "      <td>M</td>\n",
       "      <td>174000</td>\n",
       "      <td>96000</td>\n",
       "    </tr>\n",
       "    <tr>\n",
       "      <th>2</th>\n",
       "      <td>2</td>\n",
       "      <td>BeaufortLesage@einrot.com</td>\n",
       "      <td>Beaufort Lesage</td>\n",
       "      <td>M</td>\n",
       "      <td>173000</td>\n",
       "      <td>84000</td>\n",
       "    </tr>\n",
       "    <tr>\n",
       "      <th>3</th>\n",
       "      <td>3</td>\n",
       "      <td>RussellDurand@armyspy.com</td>\n",
       "      <td>Russell Durand</td>\n",
       "      <td>M</td>\n",
       "      <td>121000</td>\n",
       "      <td>98000</td>\n",
       "    </tr>\n",
       "    <tr>\n",
       "      <th>4</th>\n",
       "      <td>4</td>\n",
       "      <td>AlexisRiel@rhyta.com</td>\n",
       "      <td>Alexis Riel</td>\n",
       "      <td>M</td>\n",
       "      <td>176000</td>\n",
       "      <td>61000</td>\n",
       "    </tr>\n",
       "  </tbody>\n",
       "</table>\n",
       "</div>"
      ],
      "text/plain": [
       "   identifiant                      email               nom genre  achats  \\\n",
       "0            0  LaurentDagenais@rhyta.com  Laurent Dagenais     M  145000   \n",
       "1            1      GuyMarois@fleckens.hu        Guy Marois     M  174000   \n",
       "2            2  BeaufortLesage@einrot.com   Beaufort Lesage     M  173000   \n",
       "3            3  RussellDurand@armyspy.com    Russell Durand     M  121000   \n",
       "4            4       AlexisRiel@rhyta.com       Alexis Riel     M  176000   \n",
       "\n",
       "   dépenses  \n",
       "0     45000  \n",
       "1     96000  \n",
       "2     84000  \n",
       "3     98000  \n",
       "4     61000  "
      ]
     },
     "execution_count": 2,
     "metadata": {},
     "output_type": "execute_result"
    }
   ],
   "source": [
    "import pandas as pd\n",
    "import numpy as np\n",
    "\n",
    "df_xlsx = pd.read_excel('../datas/clients.xlsx')\n",
    "df_csv = pd.read_csv('../datas/clients.csv')\n",
    "df_json = pd.read_json('../datas/clients.json')\n",
    "\n",
    "\n",
    "\n",
    "df_xlsx['achats'] = np.random.randint(100,200,df_xlsx.shape[0])*1000\n",
    "df_xlsx['dépenses'] = np.random.randint(1,99,df_xlsx.shape[0])*1000\n",
    "\n",
    "df_xlsx.head()"
   ]
  },
  {
   "cell_type": "markdown",
   "metadata": {},
   "source": [
    "### 1 - Appliquez la sélection via des indices : iloc"
   ]
  },
  {
   "cell_type": "code",
   "execution_count": null,
   "metadata": {},
   "outputs": [],
   "source": [
    "#La méthode.iloc suit la syntaxe suivante :  mon_dataframe.iloc[indice_ligne, indice_colonne]\n",
    "df_xlsx.iloc[0,2] # Qui corresponds au nom du premier client\n",
    "\n",
    "df_xlsx.iloc[3:10,2] #Les noms des clients du 3eme au 9eme\n",
    "\n",
    "df_xlsx.iloc[:4,:] #Toutes les colonnes des 4 premiers clients\n",
    "\n",
    "# sélectionner l’e-mail et le genre des 10 derniers clients :\n",
    "df_xlsx.iloc[-10:, [1, 3]]"
   ]
  },
  {
   "cell_type": "markdown",
   "metadata": {},
   "source": [
    "### 2-Utilisez la sélection via des conditions : loc"
   ]
  },
  {
   "cell_type": "code",
   "execution_count": null,
   "metadata": {},
   "outputs": [],
   "source": [
    "#mon_dataframe.loc[ condition sur les lignes, colonne(s) ]\n",
    "df_xlsx.loc[df_xlsx['email'].str.endswith('@rhyta.com'),:] #Tous les emails du nom de domaine @rhyta.com\n",
    "df_xlsx.loc[df_xlsx['email'].str.endswith('@rhyta.com'),'nom'] #Afficher juste le nom des emails du nom de domaine @rhyta.com\n",
    "df_xlsx.loc[df_xlsx['email'].str.endswith('@rhyta.com'),['nom','email']] #Afficher deux colonnes nom et email des emails du nom de domaine @rhyta.com"
   ]
  },
  {
   "cell_type": "code",
   "execution_count": null,
   "metadata": {},
   "outputs": [],
   "source": [
    "df_xlsx.loc[df_xlsx['achats'] < 3000, ['nom','email','achats']] #Affiche les clients dont les achats sont inférieurs à 3000"
   ]
  },
  {
   "cell_type": "markdown",
   "metadata": {},
   "source": [
    "#### 3- Mixer les conditions : opérateur $ (et) / | (ou)"
   ]
  },
  {
   "cell_type": "code",
   "execution_count": null,
   "metadata": {},
   "outputs": [],
   "source": [
    "df_xlsx.loc[(df_xlsx['achats'] > 90000) & (df_xlsx['genre'] == 'F'), :] #Toutes les femmes avec un revenue supérieur à 90000\n",
    "df_xlsx.loc[(df_xlsx['achats'] < 3000) | (df_xlsx['genre'] == 'F'), :] #Toutes les homes ou tous les revenues inférieur à 3000"
   ]
  },
  {
   "cell_type": "markdown",
   "metadata": {},
   "source": [
    "#### Modification avec conditions"
   ]
  },
  {
   "cell_type": "code",
   "execution_count": null,
   "metadata": {},
   "outputs": [],
   "source": [
    "#Ajouter 1500 aux acgats de toutes les femmes\n",
    "df_xlsx.loc[(df_xlsx['achats'] > 90000) & (df_xlsx['genre'] == 'F'), 'achats'] = df_xlsx.loc[(df_xlsx['achats'] > 90000) & (df_xlsx['genre'] == 'F'), 'achats'] + 1500\n",
    "\n",
    "df_xlsx.head()"
   ]
  },
  {
   "cell_type": "markdown",
   "metadata": {},
   "source": [
    "# 3 - Aggréger les données "
   ]
  },
  {
   "cell_type": "markdown",
   "metadata": {},
   "source": [
    "#### Aggregation par groupes d'un index : .groupeby()"
   ]
  },
  {
   "cell_type": "code",
   "execution_count": 3,
   "metadata": {},
   "outputs": [
    {
     "data": {
      "text/html": [
       "<div>\n",
       "<style scoped>\n",
       "    .dataframe tbody tr th:only-of-type {\n",
       "        vertical-align: middle;\n",
       "    }\n",
       "\n",
       "    .dataframe tbody tr th {\n",
       "        vertical-align: top;\n",
       "    }\n",
       "\n",
       "    .dataframe thead tr th {\n",
       "        text-align: left;\n",
       "    }\n",
       "\n",
       "    .dataframe thead tr:last-of-type th {\n",
       "        text-align: right;\n",
       "    }\n",
       "</style>\n",
       "<table border=\"1\" class=\"dataframe\">\n",
       "  <thead>\n",
       "    <tr>\n",
       "      <th></th>\n",
       "      <th colspan=\"2\" halign=\"left\">dépenses</th>\n",
       "      <th colspan=\"3\" halign=\"left\">achats</th>\n",
       "    </tr>\n",
       "    <tr>\n",
       "      <th></th>\n",
       "      <th>sum</th>\n",
       "      <th>mean</th>\n",
       "      <th>max</th>\n",
       "      <th>min</th>\n",
       "      <th>mean</th>\n",
       "    </tr>\n",
       "    <tr>\n",
       "      <th>genre</th>\n",
       "      <th></th>\n",
       "      <th></th>\n",
       "      <th></th>\n",
       "      <th></th>\n",
       "      <th></th>\n",
       "    </tr>\n",
       "  </thead>\n",
       "  <tbody>\n",
       "    <tr>\n",
       "      <th>F</th>\n",
       "      <td>5790000</td>\n",
       "      <td>49067.796610</td>\n",
       "      <td>199000</td>\n",
       "      <td>101000</td>\n",
       "      <td>149237.288136</td>\n",
       "    </tr>\n",
       "    <tr>\n",
       "      <th>M</th>\n",
       "      <td>5435000</td>\n",
       "      <td>49409.090909</td>\n",
       "      <td>199000</td>\n",
       "      <td>100000</td>\n",
       "      <td>153718.181818</td>\n",
       "    </tr>\n",
       "  </tbody>\n",
       "</table>\n",
       "</div>"
      ],
      "text/plain": [
       "      dépenses                achats                       \n",
       "           sum          mean     max     min           mean\n",
       "genre                                                      \n",
       "F      5790000  49067.796610  199000  101000  149237.288136\n",
       "M      5435000  49409.090909  199000  100000  153718.181818"
      ]
     },
     "execution_count": 3,
     "metadata": {},
     "output_type": "execute_result"
    }
   ],
   "source": [
    "df_xlsx.groupby('genre').sum() #avoir un tableau avec les donner grouper par genre\n",
    "df_xlsx.groupby('genre')['achats'].sum() #On veut avoir que le résultat des achats\n",
    "#appliquer des fonctions d’agrégation différentes en fonction de la colonne, voir appliquer plusieurs fonctions d’agrégation sur une même colonne\n",
    "df_xlsx.groupby('genre').agg({'dépenses':['sum','mean'], 'achats':['max','min','mean']})"
   ]
  },
  {
   "cell_type": "markdown",
   "metadata": {},
   "source": [
    "#### Aggréger les lignes et les colonnes : .pivot_table"
   ]
  },
  {
   "cell_type": "code",
   "execution_count": null,
   "metadata": {},
   "outputs": [],
   "source": [
    "#prets.pivot_table(index='ville', columns='type', values='benefices', aggfunc=np.mean)"
   ]
  }
 ],
 "metadata": {
  "kernelspec": {
   "display_name": "Python 3",
   "language": "python",
   "name": "python3"
  },
  "language_info": {
   "codemirror_mode": {
    "name": "ipython",
    "version": 3
   },
   "file_extension": ".py",
   "mimetype": "text/x-python",
   "name": "python",
   "nbconvert_exporter": "python",
   "pygments_lexer": "ipython3",
   "version": "3.12.3"
  }
 },
 "nbformat": 4,
 "nbformat_minor": 2
}
