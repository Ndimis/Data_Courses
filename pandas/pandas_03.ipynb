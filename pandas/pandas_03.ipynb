{
 "cells": [
  {
   "cell_type": "markdown",
   "metadata": {},
   "source": [
    "# Pandas : Filter les données"
   ]
  },
  {
   "cell_type": "code",
   "execution_count": null,
   "metadata": {},
   "outputs": [],
   "source": [
    "import pandas as pd\n",
    "import numpy as np\n",
    "\n",
    "df_xlsx = pd.read_excel('../datas/clients.xlsx')\n",
    "df_csv = pd.read_csv('../datas/clients.csv')\n",
    "df_json = pd.read_json('../datas/clients.json')\n",
    "\n",
    "\n",
    "\n",
    "df_xlsx['achats'] = np.random.randint(100,200,df_xlsx.shape[0])*1000\n",
    "df_xlsx['dépenses'] = np.random.randint(1,99,df_xlsx.shape[0])*1000\n",
    "\n",
    "df_xlsx.head()"
   ]
  },
  {
   "cell_type": "markdown",
   "metadata": {},
   "source": [
    "### 1 - Appliquez la sélection via des indices : iloc"
   ]
  },
  {
   "cell_type": "code",
   "execution_count": null,
   "metadata": {},
   "outputs": [],
   "source": [
    "#La méthode.iloc suit la syntaxe suivante :  mon_dataframe.iloc[indice_ligne, indice_colonne]\n",
    "df_xlsx.iloc[0,2] # Qui corresponds au nom du premier client\n",
    "\n",
    "df_xlsx.iloc[3:10,2] #Les noms des clients du 3eme au 9eme\n",
    "\n",
    "df_xlsx.iloc[:4,:] #Toutes les colonnes des 4 premiers clients\n",
    "\n",
    "# sélectionner l’e-mail et le genre des 10 derniers clients :\n",
    "df_xlsx.iloc[-10:, [1, 3]]"
   ]
  },
  {
   "cell_type": "markdown",
   "metadata": {},
   "source": [
    "### 2-Utilisez la sélection via des conditions : loc"
   ]
  },
  {
   "cell_type": "code",
   "execution_count": null,
   "metadata": {},
   "outputs": [],
   "source": [
    "#mon_dataframe.loc[ condition sur les lignes, colonne(s) ]\n",
    "df_xlsx.loc[df_xlsx['email'].str.endswith('@rhyta.com'),:] #Tous les emails du nom de domaine @rhyta.com\n",
    "df_xlsx.loc[df_xlsx['email'].str.endswith('@rhyta.com'),'nom'] #Afficher juste le nom des emails du nom de domaine @rhyta.com\n",
    "df_xlsx.loc[df_xlsx['email'].str.endswith('@rhyta.com'),['nom','email']] #Afficher deux colonnes nom et email des emails du nom de domaine @rhyta.com"
   ]
  },
  {
   "cell_type": "code",
   "execution_count": null,
   "metadata": {},
   "outputs": [],
   "source": [
    "df_xlsx.loc[df_xlsx['achats'] < 3000, ['nom','email','achats']] #Affiche les clients dont les achats sont inférieurs à 3000"
   ]
  },
  {
   "cell_type": "markdown",
   "metadata": {},
   "source": [
    "#### 3- Mixer les conditions : opérateur $ (et) / | (ou)"
   ]
  },
  {
   "cell_type": "code",
   "execution_count": null,
   "metadata": {},
   "outputs": [],
   "source": [
    "df_xlsx.loc[(df_xlsx['achats'] > 90000) & (df_xlsx['genre'] == 'F'), :] #Toutes les femmes avec un revenue supérieur à 90000\n",
    "df_xlsx.loc[(df_xlsx['achats'] < 3000) | (df_xlsx['genre'] == 'F'), :] #Toutes les homes ou tous les revenues inférieur à 3000"
   ]
  },
  {
   "cell_type": "markdown",
   "metadata": {},
   "source": [
    "#### Modification avec conditions"
   ]
  },
  {
   "cell_type": "code",
   "execution_count": null,
   "metadata": {},
   "outputs": [],
   "source": [
    "#Ajouter 1500 aux acgats de toutes les femmes\n",
    "df_xlsx.loc[(df_xlsx['achats'] > 90000) & (df_xlsx['genre'] == 'F'), 'achats'] = df_xlsx.loc[(df_xlsx['achats'] > 90000) & (df_xlsx['genre'] == 'F'), 'achats'] + 1500\n",
    "\n",
    "df_xlsx.head()"
   ]
  },
  {
   "cell_type": "markdown",
   "metadata": {},
   "source": [
    "# 3 - Aggréger les données "
   ]
  },
  {
   "cell_type": "markdown",
   "metadata": {},
   "source": [
    "#### Aggregation par groupes d'un index : .groupeby()"
   ]
  },
  {
   "cell_type": "code",
   "execution_count": null,
   "metadata": {},
   "outputs": [],
   "source": [
    "df_xlsx.groupby('genre').sum() #avoir un tableau avec les donner grouper par genre\n",
    "df_xlsx.groupby('genre')['achats'].sum() #On veut avoir que le résultat des achats\n",
    "#appliquer des fonctions d’agrégation différentes en fonction de la colonne, voir appliquer plusieurs fonctions d’agrégation sur une même colonne\n",
    "df_xlsx.groupby('genre').agg({'dépenses':['sum','mean'], 'achats':['max','min','mean']})"
   ]
  },
  {
   "cell_type": "markdown",
   "metadata": {},
   "source": [
    "#### Aggréger les lignes et les colonnes : .pivot_table"
   ]
  },
  {
   "cell_type": "code",
   "execution_count": null,
   "metadata": {},
   "outputs": [],
   "source": [
    "#prets.pivot_table(index='ville', columns='type', values='benefices', aggfunc=np.mean)"
   ]
  }
 ],
 "metadata": {
  "kernelspec": {
   "display_name": "Python 3",
   "language": "python",
   "name": "python3"
  },
  "language_info": {
   "codemirror_mode": {
    "name": "ipython",
    "version": 3
   },
   "file_extension": ".py",
   "mimetype": "text/x-python",
   "name": "python",
   "nbconvert_exporter": "python",
   "pygments_lexer": "ipython3",
   "version": "3.12.3"
  }
 },
 "nbformat": 4,
 "nbformat_minor": 2
}
