{
 "cells": [
  {
   "cell_type": "markdown",
   "metadata": {},
   "source": [
    "# Pandas : Aggréger les données"
   ]
  },
  {
   "cell_type": "code",
   "execution_count": null,
   "metadata": {},
   "outputs": [],
   "source": [
    "import pandas as pd\n",
    "import numpy as np\n",
    "import random as rd\n",
    "\n",
    "data_csv = pd.read_csv('../datas/clients.csv')\n",
    "\n",
    "data_csv['Salaire'] = np.random.randint(1200,8000,data_csv.shape[0])\n",
    "data_csv['Dépenses'] = np.random.randint(1200,8000,data_csv.shape[0])\n",
    "data_csv['Villes'] = rd.choices(['Douala', 'Yaoundé','Baffoussam','Yagoua', 'Kaélé', 'Bertoua', 'Yabassi'],k=data_csv.shape[0])\n",
    "data_csv['Type'] = rd.choices(['Staff','Outsource'], k=data_csv.shape[0])\n",
    "data_csv.head()"
   ]
  },
  {
   "cell_type": "markdown",
   "metadata": {},
   "source": [
    "### Aggréger plusieurs lignes"
   ]
  },
  {
   "cell_type": "markdown",
   "metadata": {},
   "source": [
    "#### 1- Aggréger toutes les lignes à partir d'un seul paramètre"
   ]
  },
  {
   "cell_type": "code",
   "execution_count": null,
   "metadata": {},
   "outputs": [],
   "source": [
    "#On regroupe les informations des clients par le paramètre Ville\n",
    "clients_ville = data_csv.groupby('Villes').sum()\n",
    "print(clients_ville)"
   ]
  },
  {
   "cell_type": "markdown",
   "metadata": {},
   "source": [
    "#### 2- Aggréger une colonne précise à partir d'un paramétre"
   ]
  },
  {
   "cell_type": "code",
   "execution_count": null,
   "metadata": {},
   "outputs": [],
   "source": [
    "#On regroupe les Salaires total des clients par villes \n",
    "salaire_total_villes = data_csv.groupby('Villes')['Salaire'].sum()\n",
    "print(salaire_total_villes)"
   ]
  },
  {
   "cell_type": "markdown",
   "metadata": {},
   "source": [
    "#### 3- Aggréger une colonnes précise à partir d'un paramétre, avec plusieurs fonctions\n"
   ]
  },
  {
   "cell_type": "code",
   "execution_count": null,
   "metadata": {},
   "outputs": [],
   "source": [
    "#On regroupe les salaires des clients par villes pour les fonctions : Le total, la moyenne, le max et le min\n",
    "salaire_villes = data_csv.groupby('Villes').agg({'Salaire': ['sum','mean', 'max', 'min']}) \n",
    "print(salaire_villes)"
   ]
  },
  {
   "cell_type": "code",
   "execution_count": null,
   "metadata": {},
   "outputs": [],
   "source": [
    "#On regroupe les salaires et dépenses des clients par villes pour les fonctions : Le total, la moyenne, le max et le min\n",
    "salaire_villes = data_csv.groupby('Villes').agg({'Salaire': ['sum','mean', 'max', 'min'], 'Dépenses': ['sum','mean', 'max', 'min']}) \n",
    "print(salaire_villes)"
   ]
  },
  {
   "cell_type": "markdown",
   "metadata": {},
   "source": [
    "#### 3- Aggréger une colonnes précise à partir de plusieurs paramétres sur les lignes, avec plusieurs fonctions\n"
   ]
  },
  {
   "cell_type": "code",
   "execution_count": null,
   "metadata": {},
   "outputs": [],
   "source": [
    "#On regroupe les salaires et dépenses des clients par villes et genres pour les fonctions : Le total, la moyenne, le max et le min\n",
    "salaire_villes_genre = data_csv.groupby(['Villes','genre']).agg({'Salaire': ['sum','mean', 'max', 'min'], 'Dépenses': ['sum','mean', 'max', 'min']}) \n",
    "print(salaire_villes)"
   ]
  },
  {
   "cell_type": "markdown",
   "metadata": {},
   "source": [
    "#### 4- Aggréger une colonnes précise à partir de plusieurs paramétres sur les colonnes, avec plusieurs fonctions\n"
   ]
  },
  {
   "cell_type": "code",
   "execution_count": null,
   "metadata": {},
   "outputs": [],
   "source": [
    "salaire_total_genre = data_csv.pivot_table(index='Villes', columns='Type', values='Salaire', aggfunc='sum')\n",
    "#utiliser la ville en tant que variable\n",
    "salaire_total_genre = salaire_total_genre.reset_index()\n",
    "salaire_total_genre"
   ]
  },
  {
   "cell_type": "code",
   "execution_count": null,
   "metadata": {},
   "outputs": [],
   "source": [
    "#Faire l'inverse\n",
    "salaire_total_genre.melt(id_vars='Villes', value_vars=['Outsource', 'Staff'])\n"
   ]
  }
 ],
 "metadata": {
  "kernelspec": {
   "display_name": "Python 3",
   "language": "python",
   "name": "python3"
  },
  "language_info": {
   "codemirror_mode": {
    "name": "ipython",
    "version": 3
   },
   "file_extension": ".py",
   "mimetype": "text/x-python",
   "name": "python",
   "nbconvert_exporter": "python",
   "pygments_lexer": "ipython3",
   "version": "3.12.3"
  }
 },
 "nbformat": 4,
 "nbformat_minor": 2
}
