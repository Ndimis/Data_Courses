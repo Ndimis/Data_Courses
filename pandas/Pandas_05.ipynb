{
 "cells": [
  {
   "cell_type": "markdown",
   "metadata": {},
   "source": [
    "# Pandas : Fusionner les données"
   ]
  },
  {
   "cell_type": "code",
   "execution_count": null,
   "metadata": {},
   "outputs": [],
   "source": [
    "import pandas as pd\n",
    "\n",
    "client_01 = pd.read_csv('../datas/clt_01.csv')\n",
    "client_02 = pd.read_csv('../datas/clt_02.csv')\n",
    "age = pd.read_csv('../datas/age.csv')\n",
    "prets = pd.read_csv('../datas/prets.csv')\n",
    "\n",
    "# calcul du taux d'endettement\n",
    "prets['taux_endettement'] = round(prets['remboursement'] * 100 / prets['revenu'], 2)\n",
    "\n",
    "# renommer taux en taux_interet\n",
    "prets.rename(columns={'taux':'taux_interet'}, inplace=True)\n",
    "\n",
    "# calculer le cout total du pret\n",
    "prets['cout_total'] = prets['remboursement'] * prets['duree']\n",
    "\n",
    "# calculer les bénéfices mensuels réalisés\n",
    "prets['benefices'] = round((prets['cout_total'] * prets['taux_interet']/100)/(24), 2)\n",
    "\n",
    "# création d'une variable risque\n",
    "prets['risque'] = 'Non'\n",
    "prets.loc[prets['taux_endettement'] > 35, 'risque'] = 'Oui'\n",
    "\n",
    "# dataframe de profils clients\n",
    "profil_clients = prets.groupby('identifiant')[['remboursement','taux_endettement','cout_total','benefices']].sum()\n",
    "profil_clients.reset_index(inplace=True)\n",
    "profil_clients.head()\n",
    "#data.head()"
   ]
  },
  {
   "cell_type": "markdown",
   "metadata": {},
   "source": [
    "### Concatenation de deux fichiers"
   ]
  },
  {
   "cell_type": "code",
   "execution_count": null,
   "metadata": {},
   "outputs": [],
   "source": [
    "clients = pd.concat([client_01, client_02])\n",
    "clients.head()"
   ]
  },
  {
   "cell_type": "markdown",
   "metadata": {},
   "source": [
    "### 2- Fusionner deux fichiers "
   ]
  },
  {
   "cell_type": "code",
   "execution_count": null,
   "metadata": {},
   "outputs": [],
   "source": [
    "#client profil\n",
    "customer = pd.merge(clients, profil_clients)\n",
    "customer.head()"
   ]
  },
  {
   "cell_type": "code",
   "execution_count": null,
   "metadata": {},
   "outputs": [],
   "source": [
    "notes = pd.read_csv('../datas/notes.csv')\n",
    "notes_sup = pd.read_csv('../datas/notes_sup.csv')\n",
    "\n",
    "#te = notes.pivot_table(index='nom', columns='matiere', values='note')\n",
    "#te\n",
    "\n",
    "print(notes.head())\n",
    "print(notes_sup.head())"
   ]
  },
  {
   "cell_type": "code",
   "execution_count": null,
   "metadata": {},
   "outputs": [],
   "source": [
    "moyenne_etu = notes.groupby('nom')['note'].mean()\n",
    "moyenne_etu = moyenne_etu.reset_index()\n",
    "moyenne_etu.loc[moyenne_etu['note'] < 10,:].shape[0]"
   ]
  },
  {
   "cell_type": "code",
   "execution_count": null,
   "metadata": {},
   "outputs": [],
   "source": [
    "moyenne_géné = notes.groupby('matiere')['note'].mean().mean()\n",
    "moyenne_géné\n",
    "notes.loc()"
   ]
  },
  {
   "cell_type": "code",
   "execution_count": null,
   "metadata": {},
   "outputs": [],
   "source": [
    "notes_cpt = pd.merge(notes, notes_sup, on='nom')\n",
    "notes_cpt = notes_cpt.reset_index()\n",
    "display(notes_cpt)\n",
    "#tdd =notes_cpt.pivot_table(index='nom', columns='matiere', values='note_x')\n",
    "#tdd"
   ]
  },
  {
   "cell_type": "code",
   "execution_count": null,
   "metadata": {},
   "outputs": [],
   "source": [
    "cmds = pd.read_csv('../datas/commande.csv')\n",
    "prod = pd.read_csv('../datas/produits.csv')\n",
    "\n",
    "#te = notes.pivot_table(index='nom', columns='matiere', values='note')\n",
    "#te\n",
    "#print(cmds.head())\n",
    "#print(prod.head())\n",
    "\n",
    "resultat = pd.merge(prod,cmds, on='id', how='left')\n",
    "resultat\n",
    "resta = resultat.groupby('id').agg({'prix': 'mean', 'nombre': 'sum'})\n",
    "resta['CA'] = resta['prix'] * resta['nombre']\n",
    "\n",
    "resta.sort_values(by='CA')\n"
   ]
  }
 ],
 "metadata": {
  "kernelspec": {
   "display_name": "Python 3",
   "language": "python",
   "name": "python3"
  },
  "language_info": {
   "codemirror_mode": {
    "name": "ipython",
    "version": 3
   },
   "file_extension": ".py",
   "mimetype": "text/x-python",
   "name": "python",
   "nbconvert_exporter": "python",
   "pygments_lexer": "ipython3",
   "version": "3.12.3"
  }
 },
 "nbformat": 4,
 "nbformat_minor": 2
}
