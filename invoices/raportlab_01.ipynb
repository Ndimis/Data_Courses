{
 "cells": [
  {
   "cell_type": "markdown",
   "metadata": {},
   "source": [
    "# RaportLab"
   ]
  },
  {
   "cell_type": "code",
   "execution_count": null,
   "metadata": {},
   "outputs": [],
   "source": [
    "%pip install flake8"
   ]
  },
  {
   "cell_type": "code",
   "execution_count": null,
   "metadata": {},
   "outputs": [],
   "source": [
    "from reportlab.lib.pagesizes import A4\n",
    "from reportlab.pdfgen import canvas\n",
    "\n",
    "def generate_invoice(invoice_number, client_name, items, total_amount, output_filename):\n",
    "    c = canvas.Canvas(output_filename, pagesize=A4)\n",
    "    width, height = A4\n",
    "\n",
    "    # Header\n",
    "    c.setFont(\"Helvetica-Bold\", 24)\n",
    "    c.drawString(100, height - 100, \"Invoice\")\n",
    "    c.setFont(\"Helvetica\", 12)\n",
    "    c.drawString(100, height - 140, f\"Invoice Number: {invoice_number}\")\n",
    "    c.drawString(100, height - 160, f\"Client Name: {client_name}\")\n",
    "\n",
    "    # Table Header\n",
    "    c.drawString(100, height - 200, \"Item Description\")\n",
    "    c.drawString(400, height - 200, \"Price\")\n",
    "\n",
    "    # Table Rows\n",
    "    y = height - 220\n",
    "    for item in items:\n",
    "        description, price = item\n",
    "        c.drawString(100, y, description)\n",
    "        c.drawString(400, y, f\"${price:.2f}\")\n",
    "        y -= 20\n",
    "\n",
    "    # Total Amount\n",
    "    c.setFont(\"Helvetica-Bold\", 12)\n",
    "    c.drawString(100, y - 20, f\"Total Amount: ${total_amount:.2f}\")\n",
    "\n",
    "    # Save the PDF\n",
    "    c.showPage()\n",
    "    c.save()\n",
    "\n",
    "# Example usage\n",
    "items = [(\"Item 1\", 30.00), (\"Item 2\", 45.50), (\"Item 3\", 60.00)]\n",
    "generate_invoice(\"12345\", \"John Doe\", items, sum(item[1] for item in items), \"invoice.pdf\")\n"
   ]
  }
 ],
 "metadata": {
  "kernelspec": {
   "display_name": "Python 3",
   "language": "python",
   "name": "python3"
  },
  "language_info": {
   "codemirror_mode": {
    "name": "ipython",
    "version": 3
   },
   "file_extension": ".py",
   "mimetype": "text/x-python",
   "name": "python",
   "nbconvert_exporter": "python",
   "pygments_lexer": "ipython3",
   "version": "3.12.3"
  }
 },
 "nbformat": 4,
 "nbformat_minor": 2
}
