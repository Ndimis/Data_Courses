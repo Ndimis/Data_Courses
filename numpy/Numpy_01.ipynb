{
 "cells": [
  {
   "cell_type": "markdown",
   "id": "b639a530",
   "metadata": {},
   "source": [
    "## Créer un array NumPy"
   ]
  },
  {
   "cell_type": "code",
   "execution_count": null,
   "id": "7c676228",
   "metadata": {},
   "outputs": [],
   "source": [
    "import numpy as np\n",
    "\n",
    "revenus = [1800, 1500, 2200, 3000, 2172]\n",
    "\n",
    "revenu_array = np.array(revenus)\n",
    "\n",
    "revenu_array"
   ]
  },
  {
   "cell_type": "markdown",
   "id": "97863d51",
   "metadata": {},
   "source": [
    "## Quelques fonctions de base"
   ]
  },
  {
   "cell_type": "markdown",
   "id": "a1eb8128",
   "metadata": {},
   "source": [
    "### Array avec les zeros"
   ]
  },
  {
   "cell_type": "code",
   "execution_count": null,
   "id": "0c85d05f",
   "metadata": {},
   "outputs": [],
   "source": [
    "array_zero = np.zeros([5,2])\n",
    "print(array_zero)"
   ]
  },
  {
   "cell_type": "markdown",
   "id": "632704dd",
   "metadata": {},
   "source": [
    "### Array des uns"
   ]
  },
  {
   "cell_type": "code",
   "execution_count": null,
   "id": "593a3529",
   "metadata": {},
   "outputs": [],
   "source": [
    "array_un = np.ones([3,4])\n",
    "array_un"
   ]
  },
  {
   "cell_type": "code",
   "execution_count": 9,
   "id": "5b68ff77",
   "metadata": {},
   "outputs": [
    {
     "name": "stdout",
     "output_type": "stream",
     "text": [
      "[ 5.   5.5  6.   6.5  7.   7.5  8.   8.5  9.   9.5 10. ]\n",
      "10.0\n"
     ]
    },
    {
     "ename": "",
     "evalue": "",
     "output_type": "error",
     "traceback": [
      "\u001b[1;31mThe Kernel crashed while executing code in the current cell or a previous cell. \n",
      "\u001b[1;31mPlease review the code in the cell(s) to identify a possible cause of the failure. \n",
      "\u001b[1;31mClick <a href='https://aka.ms/vscodeJupyterKernelCrash'>here</a> for more info. \n",
      "\u001b[1;31mView Jupyter <a href='command:jupyter.viewOutput'>log</a> for further details."
     ]
    }
   ],
   "source": [
    "a = np.linspace(5, 10, 11)\n",
    "print(a)\n",
    "print(a[-1])"
   ]
  },
  {
   "cell_type": "markdown",
   "id": "3b7718c2",
   "metadata": {},
   "source": [
    "### Array avec une sequence lineaire : arange"
   ]
  },
  {
   "cell_type": "code",
   "execution_count": null,
   "id": "8846a4af",
   "metadata": {},
   "outputs": [],
   "source": [
    "array_lineare = np.arange(1,15,1)\n",
    "array_lineare"
   ]
  },
  {
   "cell_type": "markdown",
   "id": "7997bb34",
   "metadata": {},
   "source": [
    "### Array de n valeurs espacées : linspace"
   ]
  },
  {
   "cell_type": "code",
   "execution_count": null,
   "id": "103f00b4",
   "metadata": {},
   "outputs": [],
   "source": [
    "array_espace = np.linspace(1,15, 100)\n",
    "array_espace"
   ]
  },
  {
   "cell_type": "markdown",
   "id": "d52be5e7",
   "metadata": {},
   "source": [
    "### Accéder au type d'élément d'un array : dtype"
   ]
  },
  {
   "cell_type": "code",
   "execution_count": null,
   "id": "eba5b045",
   "metadata": {},
   "outputs": [],
   "source": [
    "revenu_array.dtype"
   ]
  },
  {
   "cell_type": "markdown",
   "id": "5d34b498",
   "metadata": {},
   "source": [
    "### Selectionner les éléments d'un array "
   ]
  },
  {
   "cell_type": "markdown",
   "id": "58a5a574",
   "metadata": {},
   "source": [
    "#### Selectionner un seul élément"
   ]
  },
  {
   "cell_type": "code",
   "execution_count": null,
   "id": "8820659b",
   "metadata": {},
   "outputs": [],
   "source": [
    "print(revenu_array[2])\n",
    "revenu_array[-1]"
   ]
  },
  {
   "cell_type": "markdown",
   "id": "91a2cb3f",
   "metadata": {},
   "source": [
    "#### Selectionner un ensemble d'éléments"
   ]
  },
  {
   "cell_type": "code",
   "execution_count": null,
   "id": "0af1f274",
   "metadata": {},
   "outputs": [],
   "source": [
    "print(revenu_array[1:3])"
   ]
  },
  {
   "cell_type": "markdown",
   "id": "cd4839c0",
   "metadata": {},
   "source": [
    "#### Sélectionner plusieurs éléments sur condition"
   ]
  },
  {
   "cell_type": "code",
   "execution_count": null,
   "id": "fb845598",
   "metadata": {},
   "outputs": [],
   "source": [
    "print(revenu_array[revenu_array>2000])"
   ]
  },
  {
   "cell_type": "code",
   "execution_count": null,
   "id": "72adcf0c",
   "metadata": {},
   "outputs": [],
   "source": [
    "revenu_array > 2000"
   ]
  },
  {
   "cell_type": "markdown",
   "id": "5be695ef",
   "metadata": {},
   "source": [
    "### Autres méthodes NumPy"
   ]
  },
  {
   "cell_type": "markdown",
   "id": "ab471d80",
   "metadata": {},
   "source": [
    "#### Dimension d'un array : shape"
   ]
  },
  {
   "cell_type": "code",
   "execution_count": null,
   "id": "f15a531e",
   "metadata": {},
   "outputs": [],
   "source": [
    "revenu_array.shape"
   ]
  },
  {
   "cell_type": "markdown",
   "id": "d31f7302",
   "metadata": {},
   "source": [
    "#### Moyenne d'un array : mean()"
   ]
  },
  {
   "cell_type": "code",
   "execution_count": null,
   "id": "e1245eb6",
   "metadata": {},
   "outputs": [],
   "source": [
    "revenu_array.mean()"
   ]
  },
  {
   "cell_type": "markdown",
   "id": "3e0a7ac8",
   "metadata": {},
   "source": [
    "#### Maximum ou minimum d'un array : max() ou min()"
   ]
  },
  {
   "cell_type": "code",
   "execution_count": null,
   "id": "7fddb755",
   "metadata": {},
   "outputs": [],
   "source": [
    "print(revenu_array.max())\n",
    "print(revenu_array.min())"
   ]
  },
  {
   "cell_type": "markdown",
   "id": "34450707",
   "metadata": {},
   "source": [
    "#### Indice du Max ou du Min : argmax() ou argmin()"
   ]
  },
  {
   "cell_type": "code",
   "execution_count": null,
   "id": "f984f79c",
   "metadata": {},
   "outputs": [],
   "source": [
    "print(revenu_array.argmax())\n",
    "print(revenu_array.argmin())"
   ]
  },
  {
   "cell_type": "code",
   "execution_count": null,
   "id": "1a74eee8",
   "metadata": {},
   "outputs": [],
   "source": []
  }
 ],
 "metadata": {
  "kernelspec": {
   "display_name": "Python 3 (ipykernel)",
   "language": "python",
   "name": "python3"
  },
  "language_info": {
   "codemirror_mode": {
    "name": "ipython",
    "version": 3
   },
   "file_extension": ".py",
   "mimetype": "text/x-python",
   "name": "python",
   "nbconvert_exporter": "python",
   "pygments_lexer": "ipython3",
   "version": "3.12.3"
  }
 },
 "nbformat": 4,
 "nbformat_minor": 5
}
