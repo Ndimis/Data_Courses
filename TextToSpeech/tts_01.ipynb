{
 "cells": [
  {
   "cell_type": "markdown",
   "metadata": {},
   "source": [
    "# Text to speech : avec gtts"
   ]
  },
  {
   "cell_type": "code",
   "execution_count": null,
   "metadata": {},
   "outputs": [],
   "source": [
    "!pip install gtts "
   ]
  },
  {
   "cell_type": "code",
   "execution_count": 4,
   "metadata": {},
   "outputs": [
    {
     "data": {
      "text/plain": [
       "<os._wrap_close at 0x2203fd91730>"
      ]
     },
     "execution_count": 4,
     "metadata": {},
     "output_type": "execute_result"
    }
   ],
   "source": [
    "#import de la biblioteque\n",
    "from gtts import gTTS\n",
    "import os\n",
    "\n",
    "mon_text = \"Bonjour thierry NDIMIS, nous rendons tous simple avec python\"\n",
    "\n",
    "language = 'fr'\n",
    "\n",
    "textSpeech = gTTS(text=mon_text, lang=language, slow=False)\n",
    "\n",
    "textSpeech.save(\"thierry.mp3\")\n",
    "\n",
    "os.popen('thierry.mp3')\n",
    "\n"
   ]
  }
 ],
 "metadata": {
  "kernelspec": {
   "display_name": "Python 3",
   "language": "python",
   "name": "python3"
  },
  "language_info": {
   "codemirror_mode": {
    "name": "ipython",
    "version": 3
   },
   "file_extension": ".py",
   "mimetype": "text/x-python",
   "name": "python",
   "nbconvert_exporter": "python",
   "pygments_lexer": "ipython3",
   "version": "3.12.3"
  }
 },
 "nbformat": 4,
 "nbformat_minor": 2
}
