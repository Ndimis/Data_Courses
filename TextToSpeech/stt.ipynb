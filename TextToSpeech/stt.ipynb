{
 "cells": [
  {
   "cell_type": "markdown",
   "metadata": {},
   "source": [
    "# Voice to texte "
   ]
  },
  {
   "cell_type": "code",
   "execution_count": null,
   "metadata": {},
   "outputs": [],
   "source": [
    "!pip install speechrecognition pyaudio"
   ]
  },
  {
   "cell_type": "code",
   "execution_count": null,
   "metadata": {},
   "outputs": [],
   "source": [
    "import speech_recognition as sr\n",
    "\n",
    "# Initialisation de l'instance Recognizer\n",
    "recognizer = sr.Recognizer()\n",
    "\n",
    "# Utilisation du microphone pour capturer l'audio\n",
    "with sr.Microphone() as source:\n",
    "    print(\"Ajustement du bruit ambiant... Veuillez patienter...\")\n",
    "    recognizer.adjust_for_ambient_noise(source)\n",
    "    print(\"Dites quelque chose :\")\n",
    "    \n",
    "    # Enregistrement de l'audio\n",
    "    audio = recognizer.listen(source)\n",
    "    \n",
    "    try:\n",
    "        # Utilisation de l'API de Google pour reconnaître la parole\n",
    "        print(\"Reconnaissance en cours...\")\n",
    "        text = recognizer.recognize_google(audio, language='fr-FR')\n",
    "        print(\"Vous avez dit : \" + text)\n",
    "        \n",
    "    except sr.UnknownValueError:\n",
    "        print(\"Google Speech Recognition n'a pas pu comprendre l'audio\")\n",
    "    except sr.RequestError as e:\n",
    "        print(\"Erreur lors de la requête à Google Speech Recognition ; {0}\".format(e))\n"
   ]
  }
 ],
 "metadata": {
  "kernelspec": {
   "display_name": "Python 3",
   "language": "python",
   "name": "python3"
  },
  "language_info": {
   "codemirror_mode": {
    "name": "ipython",
    "version": 3
   },
   "file_extension": ".py",
   "mimetype": "text/x-python",
   "name": "python",
   "nbconvert_exporter": "python",
   "pygments_lexer": "ipython3",
   "version": "3.12.3"
  }
 },
 "nbformat": 4,
 "nbformat_minor": 2
}
