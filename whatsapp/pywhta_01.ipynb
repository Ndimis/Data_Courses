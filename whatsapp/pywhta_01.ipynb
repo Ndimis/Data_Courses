{
 "cells": [
  {
   "cell_type": "markdown",
   "metadata": {},
   "source": [
    "# pywhatkit"
   ]
  },
  {
   "cell_type": "code",
   "execution_count": null,
   "metadata": {},
   "outputs": [],
   "source": [
    "%pip install pywhatkit "
   ]
  },
  {
   "cell_type": "code",
   "execution_count": 2,
   "metadata": {},
   "outputs": [],
   "source": [
    "import pywhatkit"
   ]
  },
  {
   "cell_type": "markdown",
   "metadata": {},
   "source": [
    "### Envoyer un message whatsapp a 1:30 PM"
   ]
  },
  {
   "cell_type": "code",
   "execution_count": null,
   "metadata": {},
   "outputs": [],
   "source": [
    "pywhatkit.sendwhatmsg(\"+NumeroWhatsapp\", \"Hi\", 13, 30)"
   ]
  },
  {
   "cell_type": "markdown",
   "metadata": {},
   "source": [
    "### Comme ci-dessus mais ferme l'onglet 2 secondes après l'envoi du message"
   ]
  },
  {
   "cell_type": "code",
   "execution_count": null,
   "metadata": {},
   "outputs": [],
   "source": [
    "pywhatkit.sendwhatmsg(\"+NumeroWhatsapp\", \"Hi\", 13, 30, 15, True, 2)"
   ]
  },
  {
   "cell_type": "markdown",
   "metadata": {},
   "source": [
    "### Envoyer une image à un groupe avec la légende comme Test d'envoie"
   ]
  },
  {
   "cell_type": "code",
   "execution_count": 12,
   "metadata": {},
   "outputs": [],
   "source": [
    "pywhatkit.sendwhats_image(\"Ijk52h7UXRw5YTo7m3gsPx\", \"test.png\", \"Test d'envoie\", 20)\n",
    "#pywhatkit.sendwhatmsg_to_group(\"Ijk52h7UXRw5YTo7m3gsPx\", \"Bonjour bb\", 22, 33)"
   ]
  }
 ],
 "metadata": {
  "kernelspec": {
   "display_name": "Python 3",
   "language": "python",
   "name": "python3"
  },
  "language_info": {
   "codemirror_mode": {
    "name": "ipython",
    "version": 3
   },
   "file_extension": ".py",
   "mimetype": "text/x-python",
   "name": "python",
   "nbconvert_exporter": "python",
   "pygments_lexer": "ipython3",
   "version": "3.12.3"
  }
 },
 "nbformat": 4,
 "nbformat_minor": 2
}
