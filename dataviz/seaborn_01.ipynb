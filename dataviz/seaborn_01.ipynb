{
 "cells": [
  {
   "cell_type": "markdown",
   "metadata": {},
   "source": [
    "# Seaborn "
   ]
  },
  {
   "cell_type": "code",
   "execution_count": null,
   "metadata": {},
   "outputs": [],
   "source": [
    "import seaborn as sns\n",
    "import matplotlib.pyplot as plt\n",
    "import pandas as pd\n",
    "import numpy as np\n",
    "\n",
    "prets = pd.read_csv('../datas/prets.csv')\n",
    "# calcul du taux d'endettement\n",
    "prets['taux_endettement'] = round(prets['remboursement'] * 100 / prets['revenu'], 2)\n",
    "\n",
    "# renommer taux en taux_interet\n",
    "prets.rename(columns={'taux':'taux_interet'}, inplace=True)\n",
    "\n",
    "# calculer le cout total du pret\n",
    "prets['cout_total'] = prets['remboursement'] * prets['duree']\n",
    "\n",
    "# calculer les bénéfices mensuels réalisés\n",
    "prets['benefices'] = round((prets['cout_total'] * prets['taux_interet']/100)/(24), 2)\n",
    "\n",
    "# création d'une variable risque\n",
    "prets['risque'] = 'Non'\n",
    "prets.loc[prets['taux_endettement'] > 35, 'risque'] = 'Oui'\n",
    "prets"
   ]
  },
  {
   "cell_type": "markdown",
   "metadata": {},
   "source": [
    "### Nuage des points : Scatterplot"
   ]
  },
  {
   "cell_type": "code",
   "execution_count": null,
   "metadata": {},
   "outputs": [],
   "source": [
    "#sns.scatterplot(data=prets, x='revenu', y='taux_endettement', size='duree')\n",
    "\n",
    "plt.figure(figsize=(10,6))\n",
    "\n",
    "plt.rcParams.update({'font.size': 14})\n",
    "\n",
    "sns.scatterplot(data=prets, x='revenu', y='taux_endettement', hue='type')\n",
    "\n",
    "plt.ylabel(\"Taux d'endettement\")\n",
    "\n",
    "plt.xlabel('Revenu mensuel (€)')\n",
    "\n",
    "plt.grid()\n",
    "\n",
    "plt.xlim(500, 7500)\n",
    "\n",
    "plt.legend(bbox_to_anchor=(1, 1.02))\n",
    "\n",
    "plt.title(\"Taux d'endettement en fonction du revenu mensuel\\npar type de prêt contracté\")\n",
    "\n",
    "plt.show()"
   ]
  },
  {
   "cell_type": "markdown",
   "metadata": {},
   "source": [
    "### Aggréger les données"
   ]
  },
  {
   "cell_type": "code",
   "execution_count": null,
   "metadata": {},
   "outputs": [],
   "source": [
    "plt.figure(figsize=(10,6))\n",
    "sns.barplot(data=prets, x='ville', y='remboursement', errorbar=None, estimator=np.mean, hue='type')\n",
    "\n",
    "plt.title(\"Chiffre d'affaire réalisé par agence\", color='red', fontname='Arial', fontsize=18)\n",
    "plt.xlabel('Agences')\n",
    "plt.ylabel(\"Chiffre d'affaires ($)\")"
   ]
  },
  {
   "cell_type": "markdown",
   "metadata": {},
   "source": [
    "### Palettes graphiques et thèmes : set-theme, set_palette"
   ]
  },
  {
   "cell_type": "code",
   "execution_count": null,
   "metadata": {},
   "outputs": [],
   "source": [
    "plt.figure(figsize=(10,6))\n",
    "sns.barplot(data=prets, x='ville', y='remboursement', errorbar=None, estimator=np.mean, hue='type')\n",
    "sns.set_palette('pastel')\n",
    "plt.title(\"Chiffre d'affaire réalisé par agence\", color='red', fontname='Arial', fontsize=18)\n",
    "plt.xlabel('Agences')\n",
    "plt.ylabel(\"Chiffre d'affaires ($)\")"
   ]
  },
  {
   "cell_type": "code",
   "execution_count": null,
   "metadata": {},
   "outputs": [],
   "source": [
    "#sns.scatterplot(data=prets, x='revenu', y='taux_endettement', size='duree')\n",
    "\n",
    "plt.figure(figsize=(10,6))\n",
    "\n",
    "plt.rcParams.update({'font.size': 14})\n",
    "\n",
    "sns.scatterplot(data=prets, x='revenu', y='taux_endettement', hue='type')\n",
    "sns.set_theme(style='whitegrid', palette='pastel')\n",
    "#plt.ylabel(\"Taux d'endettement\")\n",
    "\n",
    "#plt.xlabel('Revenu mensuel (€)')\n",
    "\n",
    "plt.grid()\n",
    "\n",
    "plt.xlim(500, 7500)\n",
    "\n",
    "plt.legend(bbox_to_anchor=(1, 1.02))\n",
    "\n",
    "plt.title(\"Taux d'endettement en fonction du revenu mensuel\\npar type de prêt contracté\")\n",
    "\n",
    "plt.show()"
   ]
  },
  {
   "cell_type": "code",
   "execution_count": null,
   "metadata": {},
   "outputs": [],
   "source": [
    "mpg = sns.load_dataset('mpg')\n",
    "sns.set_theme()\n",
    "origin_count = mpg['origin'].value_counts().reset_index()\n",
    "origin_count\n",
    "plt.pie(labels=origin_count['origin'], x=origin_count['count'], autopct='%.1f%%')"
   ]
  }
 ],
 "metadata": {
  "kernelspec": {
   "display_name": "Python 3",
   "language": "python",
   "name": "python3"
  },
  "language_info": {
   "codemirror_mode": {
    "name": "ipython",
    "version": 3
   },
   "file_extension": ".py",
   "mimetype": "text/x-python",
   "name": "python",
   "nbconvert_exporter": "python",
   "pygments_lexer": "ipython3",
   "version": "3.12.3"
  }
 },
 "nbformat": 4,
 "nbformat_minor": 2
}
