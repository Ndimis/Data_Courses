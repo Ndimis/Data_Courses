{
 "cells": [
  {
   "cell_type": "markdown",
   "metadata": {},
   "source": [
    "# Seaborn "
   ]
  },
  {
   "cell_type": "code",
   "execution_count": null,
   "metadata": {},
   "outputs": [],
   "source": [
    "import seaborn as sns\n",
    "import matplotlib.pyplot as plt\n",
    "import pandas as pd\n",
    "import numpy as np\n",
    "\n",
    "prets = pd.read_csv('../datas/prets.csv')\n",
    "# calcul du taux d'endettement\n",
    "prets['taux_endettement'] = round(prets['remboursement'] * 100 / prets['revenu'], 2)\n",
    "\n",
    "# renommer taux en taux_interet\n",
    "prets.rename(columns={'taux':'taux_interet'}, inplace=True)\n",
    "\n",
    "# calculer le cout total du pret\n",
    "prets['cout_total'] = prets['remboursement'] * prets['duree']\n",
    "\n",
    "# calculer les bénéfices mensuels réalisés\n",
    "prets['benefices'] = round((prets['cout_total'] * prets['taux_interet']/100)/(24), 2)\n",
    "\n",
    "# création d'une variable risque\n",
    "prets['risque'] = 'Non'\n",
    "prets.loc[prets['taux_endettement'] > 35, 'risque'] = 'Oui'\n",
    "prets"
   ]
  },
  {
   "cell_type": "markdown",
   "metadata": {},
   "source": [
    "### Nuage des points : Scatterplot"
   ]
  },
  {
   "cell_type": "code",
   "execution_count": null,
   "metadata": {},
   "outputs": [],
   "source": [
    "#sns.scatterplot(data=prets, x='revenu', y='taux_endettement', size='duree')\n",
    "\n",
    "plt.figure(figsize=(10,6))\n",
    "\n",
    "plt.rcParams.update({'font.size': 14})\n",
    "\n",
    "sns.scatterplot(data=prets, x='revenu', y='taux_endettement', hue='type')\n",
    "\n",
    "plt.ylabel(\"Taux d'endettement\")\n",
    "\n",
    "plt.xlabel('Revenu mensuel (€)')\n",
    "\n",
    "plt.grid()\n",
    "\n",
    "plt.xlim(500, 7500)\n",
    "\n",
    "plt.legend(bbox_to_anchor=(1, 1.02))\n",
    "\n",
    "plt.title(\"Taux d'endettement en fonction du revenu mensuel\\npar type de prêt contracté\")\n",
    "\n",
    "plt.show()"
   ]
  },
  {
   "cell_type": "markdown",
   "metadata": {},
   "source": [
    "### Aggréger les données"
   ]
  },
  {
   "cell_type": "code",
   "execution_count": null,
   "metadata": {},
   "outputs": [],
   "source": [
    "plt.figure(figsize=(10,6))\n",
    "sns.barplot(data=prets, x='ville', y='remboursement', errorbar=None, estimator=np.mean, hue='type')\n",
    "\n",
    "plt.title(\"Chiffre d'affaire réalisé par agence\", color='red', fontname='Arial', fontsize=18)\n",
    "plt.xlabel('Agences')\n",
    "plt.ylabel(\"Chiffre d'affaires ($)\")"
   ]
  },
  {
   "cell_type": "markdown",
   "metadata": {},
   "source": [
    "### Palettes graphiques et thèmes : set-theme, set_palette"
   ]
  },
  {
   "cell_type": "code",
   "execution_count": null,
   "metadata": {},
   "outputs": [],
   "source": [
    "plt.figure(figsize=(10,6))\n",
    "sns.barplot(data=prets, x='ville', y='remboursement', errorbar=None, estimator=np.mean, hue='type')\n",
    "sns.set_palette('pastel')\n",
    "plt.title(\"Chiffre d'affaire réalisé par agence\", color='red', fontname='Arial', fontsize=18)\n",
    "plt.xlabel('Agences')\n",
    "plt.ylabel(\"Chiffre d'affaires ($)\")"
   ]
  },
  {
   "cell_type": "code",
   "execution_count": null,
   "metadata": {},
   "outputs": [],
   "source": [
    "#sns.scatterplot(data=prets, x='revenu', y='taux_endettement', size='duree')\n",
    "\n",
    "plt.figure(figsize=(10,6))\n",
    "\n",
    "plt.rcParams.update({'font.size': 14})\n",
    "\n",
    "sns.scatterplot(data=prets, x='revenu', y='taux_endettement', hue='type')\n",
    "sns.set_theme(style='whitegrid', palette='pastel')\n",
    "#plt.ylabel(\"Taux d'endettement\")\n",
    "\n",
    "#plt.xlabel('Revenu mensuel (€)')\n",
    "\n",
    "plt.grid()\n",
    "\n",
    "plt.xlim(500, 7500)\n",
    "\n",
    "plt.legend(bbox_to_anchor=(1, 1.02))\n",
    "\n",
    "plt.title(\"Taux d'endettement en fonction du revenu mensuel\\npar type de prêt contracté\")\n",
    "\n",
    "plt.show()"
   ]
  },
  {
   "cell_type": "code",
   "execution_count": 2,
   "metadata": {},
   "outputs": [
    {
     "ename": "NameError",
     "evalue": "name 'sns' is not defined",
     "output_type": "error",
     "traceback": [
      "\u001b[1;31m---------------------------------------------------------------------------\u001b[0m",
      "\u001b[1;31mNameError\u001b[0m                                 Traceback (most recent call last)",
      "Cell \u001b[1;32mIn[2], line 1\u001b[0m\n\u001b[1;32m----> 1\u001b[0m mpg \u001b[38;5;241m=\u001b[39m \u001b[43msns\u001b[49m\u001b[38;5;241m.\u001b[39mload_dataset(\u001b[38;5;124m'\u001b[39m\u001b[38;5;124mmpg\u001b[39m\u001b[38;5;124m'\u001b[39m)\n\u001b[0;32m      2\u001b[0m sns\u001b[38;5;241m.\u001b[39mset_theme()\n\u001b[0;32m      3\u001b[0m origin_count \u001b[38;5;241m=\u001b[39m mpg[\u001b[38;5;124m'\u001b[39m\u001b[38;5;124morigin\u001b[39m\u001b[38;5;124m'\u001b[39m]\u001b[38;5;241m.\u001b[39mvalue_counts()\u001b[38;5;241m.\u001b[39mreset_index()\n",
      "\u001b[1;31mNameError\u001b[0m: name 'sns' is not defined"
     ]
    },
    {
     "ename": "",
     "evalue": "",
     "output_type": "error",
     "traceback": [
      "\u001b[1;31mThe Kernel crashed while executing code in the current cell or a previous cell. \n",
      "\u001b[1;31mPlease review the code in the cell(s) to identify a possible cause of the failure. \n",
      "\u001b[1;31mClick <a href='https://aka.ms/vscodeJupyterKernelCrash'>here</a> for more info. \n",
      "\u001b[1;31mView Jupyter <a href='command:jupyter.viewOutput'>log</a> for further details."
     ]
    }
   ],
   "source": [
    "mpg = sns.load_dataset('mpg')\n",
    "sns.set_theme()\n",
    "origin_count = mpg['origin'].value_counts().reset_index()\n",
    "origin_count\n",
    "plt.pie(labels=origin_count['origin'], x=origin_count['count'], autopct='%.1f%%')"
   ]
  }
 ],
 "metadata": {
  "kernelspec": {
   "display_name": "Python 3",
   "language": "python",
   "name": "python3"
  },
  "language_info": {
   "codemirror_mode": {
    "name": "ipython",
    "version": 3
   },
   "file_extension": ".py",
   "mimetype": "text/x-python",
   "name": "python",
   "nbconvert_exporter": "python",
   "pygments_lexer": "ipython3",
   "version": "3.12.3"
  }
 },
 "nbformat": 4,
 "nbformat_minor": 2
}
