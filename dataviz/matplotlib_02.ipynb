{
 "cells": [
  {
   "cell_type": "markdown",
   "metadata": {},
   "source": [
    "# Matplotlib"
   ]
  },
  {
   "cell_type": "code",
   "execution_count": null,
   "metadata": {},
   "outputs": [],
   "source": [
    "import matplotlib.pyplot as plt\n",
    "import pandas as pd\n",
    "import numpy as np\n",
    "\n",
    "prets = pd.read_csv('../datas/prets.csv')\n",
    "CA = pd.read_csv('../datas/ca.csv')\n"
   ]
  },
  {
   "cell_type": "markdown",
   "metadata": {},
   "source": [
    "### Ajout d'informations extérieures : title, xlabel, ylabel"
   ]
  },
  {
   "cell_type": "code",
   "execution_count": null,
   "metadata": {},
   "outputs": [
    {
     "ename": "",
     "evalue": "",
     "output_type": "error",
     "traceback": [
      "\u001b[1;31mThe Kernel crashed while executing code in the current cell or a previous cell. \n",
      "\u001b[1;31mPlease review the code in the cell(s) to identify a possible cause of the failure. \n",
      "\u001b[1;31mClick <a href='https://aka.ms/vscodeJupyterKernelCrash'>here</a> for more info. \n",
      "\u001b[1;31mView Jupyter <a href='command:jupyter.viewOutput'>log</a> for further details."
     ]
    }
   ],
   "source": [
    "villes_remb = prets.groupby('ville')['remboursement'].sum()\n",
    "villes_remb = villes_remb.reset_index()\n",
    "plt.bar(x=villes_remb['ville'], height=villes_remb['remboursement'])\n",
    "plt.title(\"Chiffre d'affaire réalisé par agence\", color='red', fontname='Arial', fontsize=18)\n",
    "plt.xlabel('Agences')\n",
    "plt.ylabel(\"Chiffre d'affaires ($)\")"
   ]
  },
  {
   "cell_type": "markdown",
   "metadata": {},
   "source": [
    "### Ajout d'éléments intérieurs : figure, grid, xlim, ylim. xticks, yticks, text"
   ]
  },
  {
   "cell_type": "code",
   "execution_count": null,
   "metadata": {},
   "outputs": [],
   "source": [
    "plt.figure(figsize=(10,6))\n",
    "plt.bar(x=villes_remb['ville'], height=villes_remb['remboursement'])\n",
    "plt.title(\"Chiffre d'affaire réalisé par agence\", color='red', fontname='Arial', fontsize=18)\n",
    "plt.xlabel('Agences')\n",
    "plt.ylabel(\"Chiffre d'affaires ($)\")\n",
    "plt.grid(axis='y')\n",
    "plt.ylim(0, 100000)\n",
    "plt.yticks([0, 25000, 50000, 75000, 100000])\n",
    "ca = villes_remb['remboursement'].tolist()\n",
    "for i in range(6) :\n",
    "    plt.text(i-0.2, ca[i]+2000, round(ca[i], 1))\n",
    "plt.show()"
   ]
  },
  {
   "cell_type": "markdown",
   "metadata": {},
   "source": [
    "### Avec une courbe : Plot"
   ]
  },
  {
   "cell_type": "code",
   "execution_count": null,
   "metadata": {},
   "outputs": [],
   "source": [
    "CA['date'] = pd.to_datetime(CA['date'])\n",
    "\n",
    "plt.figure(figsize=(10, 7))\n",
    "plt.plot(CA['date'], CA['immobilier'], label='immobilier', linewidth=3)\n",
    "plt.plot(CA['date'], CA['automobile'], label='automobile', linewidth=3)\n",
    "plt.plot(CA['date'], CA['consommation'], label='consommation', linewidth=3)\n",
    "plt.legend(loc='upper right')\n",
    "plt.ylabel('Benefice net (€)', fontsize=13)\n",
    "plt.yticks(fontsize=11)\n",
    "plt.title(\"Bénéfices mensuels nets sur l'année 2021, par type de prêt\", fontsize=14)\n",
    "plt.grid(color='gray', linestyle='-', linewidth=0.5)\n",
    "plt.show()"
   ]
  }
 ],
 "metadata": {
  "kernelspec": {
   "display_name": "Python 3",
   "language": "python",
   "name": "python3"
  },
  "language_info": {
   "codemirror_mode": {
    "name": "ipython",
    "version": 3
   },
   "file_extension": ".py",
   "mimetype": "text/x-python",
   "name": "python",
   "nbconvert_exporter": "python",
   "pygments_lexer": "ipython3",
   "version": "3.12.3"
  }
 },
 "nbformat": 4,
 "nbformat_minor": 2
}
