{
 "cells": [
  {
   "cell_type": "markdown",
   "id": "f97c6001",
   "metadata": {},
   "source": [
    "## Créer un array NumPy"
   ]
  },
  {
   "cell_type": "code",
   "execution_count": 2,
   "id": "ca0ded3e",
   "metadata": {},
   "outputs": [
    {
     "data": {
      "text/plain": [
       "array([1800, 1500, 2200, 3000, 2172])"
      ]
     },
     "execution_count": 2,
     "metadata": {},
     "output_type": "execute_result"
    }
   ],
   "source": [
    "import numpy as np\n",
    "\n",
    "revenus = [1800, 1500, 2200, 3000, 2172]\n",
    "\n",
    "revenu_array = np.array(revenus)\n",
    "\n",
    "revenu_array"
   ]
  },
  {
   "cell_type": "markdown",
   "id": "58088536",
   "metadata": {},
   "source": [
    "## Quelques fonctions de base"
   ]
  },
  {
   "cell_type": "markdown",
   "id": "f47e4389",
   "metadata": {},
   "source": [
    "### Array avec les zeros"
   ]
  },
  {
   "cell_type": "code",
   "execution_count": 6,
   "id": "e4cbba87",
   "metadata": {},
   "outputs": [
    {
     "name": "stdout",
     "output_type": "stream",
     "text": [
      "[[0. 0.]\n",
      " [0. 0.]\n",
      " [0. 0.]\n",
      " [0. 0.]\n",
      " [0. 0.]]\n"
     ]
    }
   ],
   "source": [
    "array_zero = np.zeros([5,2])\n",
    "print(array_zero)"
   ]
  },
  {
   "cell_type": "markdown",
   "id": "7ad4b2a5",
   "metadata": {},
   "source": [
    "### Array des uns"
   ]
  },
  {
   "cell_type": "code",
   "execution_count": 7,
   "id": "940af0a6",
   "metadata": {},
   "outputs": [
    {
     "data": {
      "text/plain": [
       "array([[1., 1., 1., 1.],\n",
       "       [1., 1., 1., 1.],\n",
       "       [1., 1., 1., 1.]])"
      ]
     },
     "execution_count": 7,
     "metadata": {},
     "output_type": "execute_result"
    }
   ],
   "source": [
    "array_un = np.ones([3,4])\n",
    "array_un"
   ]
  },
  {
   "cell_type": "code",
   "execution_count": null,
   "id": "2e2ed95f",
   "metadata": {},
   "outputs": [],
   "source": []
  }
 ],
 "metadata": {
  "kernelspec": {
   "display_name": "Python 3 (ipykernel)",
   "language": "python",
   "name": "python3"
  },
  "language_info": {
   "codemirror_mode": {
    "name": "ipython",
    "version": 3
   },
   "file_extension": ".py",
   "mimetype": "text/x-python",
   "name": "python",
   "nbconvert_exporter": "python",
   "pygments_lexer": "ipython3",
   "version": "3.11.7"
  }
 },
 "nbformat": 4,
 "nbformat_minor": 5
}
