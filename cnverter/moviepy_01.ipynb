{
 "cells": [
  {
   "cell_type": "markdown",
   "metadata": {},
   "source": [
    "# Moviepy"
   ]
  },
  {
   "cell_type": "code",
   "execution_count": null,
   "metadata": {},
   "outputs": [],
   "source": [
    "%pip install pydub simpleaudio"
   ]
  },
  {
   "cell_type": "markdown",
   "metadata": {},
   "source": [
    "### Convertir une video en mp3"
   ]
  },
  {
   "cell_type": "code",
   "execution_count": null,
   "metadata": {},
   "outputs": [],
   "source": [
    "from moviepy.editor import VideoFileClip\n",
    "\n",
    "# Chemin du fichier vidéo d'entrée (MP4)\n",
    "video_path = \"../datas/video.mp4\"\n",
    "\n",
    "# Charger le fichier vidéo\n",
    "video = VideoFileClip(video_path)\n",
    "\n",
    "# Extraire l'audio et l'enregistrer en tant que fichier MP3\n",
    "audio = video.audio\n",
    "audio.write_audiofile(\"output_audio.mp3\")\n",
    "\n",
    "print(\"Conversion terminée avec succès!\")"
   ]
  },
  {
   "cell_type": "markdown",
   "metadata": {},
   "source": [
    "#### Découper une vidéo\n"
   ]
  },
  {
   "cell_type": "code",
   "execution_count": null,
   "metadata": {},
   "outputs": [],
   "source": [
    "# Chemin du fichier vidéo de sortie (MP4)\n",
    "video_path = \"../datas/v2.mp4\"\n",
    "output_video_path = \"output_video_cut.mp4\"\n",
    "\n",
    "# Charger le fichier vidéo\n",
    "video = VideoFileClip(video_path)\n",
    "\n",
    "# Découper la vidéo entre la 10ème et la 20ème seconde\n",
    "cut_video = video.subclip(10, 120)\n",
    "\n",
    "# Enregistrer la vidéo découpée\n",
    "cut_video.write_videofile(output_video_path, codec=\"libx264\")\n",
    "\n",
    "print(\"Découpage de la vidéo terminé avec succès!\")"
   ]
  }
 ],
 "metadata": {
  "kernelspec": {
   "display_name": "Python 3",
   "language": "python",
   "name": "python3"
  },
  "language_info": {
   "codemirror_mode": {
    "name": "ipython",
    "version": 3
   },
   "file_extension": ".py",
   "mimetype": "text/x-python",
   "name": "python",
   "nbconvert_exporter": "python",
   "pygments_lexer": "ipython3",
   "version": "3.12.3"
  }
 },
 "nbformat": 4,
 "nbformat_minor": 2
}
