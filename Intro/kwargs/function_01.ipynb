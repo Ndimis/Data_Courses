{
 "cells": [
  {
   "cell_type": "markdown",
   "metadata": {},
   "source": [
    "# Fonction : Les Args et Kwargs"
   ]
  },
  {
   "cell_type": "markdown",
   "metadata": {},
   "source": [
    "Les fonctions en python nécessitent des arguments et vous pouvez être plutôt expressif avec eux. Vous pouvez avoir des fonctions qui acceptent n'importe quel nombre d'arguments et il existe de nombreux cas d'utilisation intéressants pour pouvoir transmettre des arguments de mots clés.  Nous explorerons comment utiliser les arguments (args) ainsi que les arguments de mots clés (kwargs).\n",
    "Nous souhaitons ici écrire des fonctions dont le nombre d'arguments peut varier car, pas connu d'avance."
   ]
  },
  {
   "cell_type": "markdown",
   "metadata": {},
   "source": [
    "### 1- Utilisation des listes comme arguments"
   ]
  },
  {
   "cell_type": "code",
   "execution_count": null,
   "metadata": {},
   "outputs": [],
   "source": [
    "#On peut utiliser une liste\n",
    "def multiply(number):\n",
    "    result = 1\n",
    "    for n in number:\n",
    "        result *= n\n",
    "    return result\n",
    "###On est obligé de passer les arguments par une liste\n",
    "print(multiply([2,3,4])) #vaut 20\n",
    "print(multiply([2,3,4,5])) #vaut 120\n",
    "#On peut mettre *devant le paramètre :\n",
    "def multiply(*number):\n",
    "    result = 1\n",
    "    for n in number:\n",
    "        result *= n\n",
    "    return result\n",
    "###On a plus besoin de passer les paramètres dans une liste\n",
    "print(multiply(2,3,4)) #vaut 20\n",
    "print(multiply(2,3,4,5)) #vaut 120\n"
   ]
  },
  {
   "cell_type": "markdown",
   "metadata": {},
   "source": [
    "### 2- args "
   ]
  },
  {
   "cell_type": "code",
   "execution_count": null,
   "metadata": {},
   "outputs": [],
   "source": [
    "#Ici un definit deux variables obligatoires et un nombres de variables inconnus\n",
    "def function(a,b, *args):\n",
    "    print(a,b) \n",
    "    print(args)\n",
    "\n",
    "function(1,2,3,4,5,6) # retourne 1,2 et le tuble (3,4,5,6)"
   ]
  },
  {
   "cell_type": "markdown",
   "metadata": {},
   "source": [
    "### 3- kwargs"
   ]
  },
  {
   "cell_type": "code",
   "execution_count": null,
   "metadata": {},
   "outputs": [],
   "source": [
    "\n",
    "#Ici on ajoute des variable avec des mots clés dont on ne connait pas d'avance le nombre et le nom\n",
    "#*args ou tout autres nom avec * au début va permettre de recuperer des arguments et les mettre dans un tuple\n",
    "#**kwargs ou tout autres nom avec ** au début va permettre de recuperer des arguments et les mettre dans un dictionnaire\n",
    "def function(a,b, *args, keyword=True, **kwargs): \n",
    "    print(a,b) \n",
    "    print(args)\n",
    "    print(keyword)\n",
    "    print(kwargs)\n",
    "\n",
    "#function(1,2,3,4,5,6)  #1,2 (2,3,4,5) True {}\n",
    "function(5,6,7,Nom='Ndimis', Age= 10) #kwargs permet de mettre les paramèttres ajouter dans un dictionnaire"
   ]
  },
  {
   "cell_type": "markdown",
   "metadata": {},
   "source": [
    "### 4- Unpacking"
   ]
  },
  {
   "cell_type": "code",
   "execution_count": 15,
   "metadata": {},
   "outputs": [
    {
     "name": "stdout",
     "output_type": "stream",
     "text": [
      "1 2\n",
      "(5, 3, 4)\n",
      "True\n",
      "{'param': 42, 'param_a': 43, 'param_b': 44}\n"
     ]
    },
    {
     "data": {
      "text/plain": [
       "\" \\nSortie :\\n1 2\\n(5, 3, 4)\\nTrue\\n{'param': 42, 'param_a': 43, 'param_b': 44}\\n\""
      ]
     },
     "execution_count": 15,
     "metadata": {},
     "output_type": "execute_result"
    },
    {
     "ename": "",
     "evalue": "",
     "output_type": "error",
     "traceback": [
      "\u001b[1;31mThe Kernel crashed while executing code in the current cell or a previous cell. \n",
      "\u001b[1;31mPlease review the code in the cell(s) to identify a possible cause of the failure. \n",
      "\u001b[1;31mClick <a href='https://aka.ms/vscodeJupyterKernelCrash'>here</a> for more info. \n",
      "\u001b[1;31mView Jupyter <a href='command:jupyter.viewOutput'>log</a> for further details."
     ]
    }
   ],
   "source": [
    "def function(a, b, *args, keyword=True, **kwargs):\n",
    "    print(a, b)\n",
    "    print(args)\n",
    "    print(keyword)\n",
    "    print(kwargs)\n",
    "\n",
    "d = {'param_a': 43, 'param_b': 44}\n",
    "# En mettant les * devant on demande de depaqueter les éléemts, \n",
    "#dans la listes avec une * et ** pour le dictionnaire\n",
    "function(1, 2, *[5, 3, 4], param=42, **d) \n",
    "\"\"\" \n",
    "Sortie :\n",
    "1 2\n",
    "(5, 3, 4)\n",
    "True\n",
    "{'param': 42, 'param_a': 43, 'param_b': 44}\n",
    "\"\"\""
   ]
  }
 ],
 "metadata": {
  "kernelspec": {
   "display_name": "Python 3",
   "language": "python",
   "name": "python3"
  },
  "language_info": {
   "codemirror_mode": {
    "name": "ipython",
    "version": 3
   },
   "file_extension": ".py",
   "mimetype": "text/x-python",
   "name": "python",
   "nbconvert_exporter": "python",
   "pygments_lexer": "ipython3",
   "version": "3.12.3"
  }
 },
 "nbformat": 4,
 "nbformat_minor": 2
}
