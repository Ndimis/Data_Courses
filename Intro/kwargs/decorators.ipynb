{
 "cells": [
  {
   "cell_type": "markdown",
   "metadata": {},
   "source": [
    "# Decorators"
   ]
  },
  {
   "cell_type": "markdown",
   "metadata": {},
   "source": [
    "### 1- Function can received function as input"
   ]
  },
  {
   "cell_type": "code",
   "execution_count": null,
   "metadata": {},
   "outputs": [],
   "source": [
    "def sum(a, b):\n",
    "    return a + b\n",
    "\n",
    "def sub(a, b):\n",
    "    return a - b\n",
    "\n",
    "def apply(funct, a, b):\n",
    "    return funct(a,b)\n",
    "\n",
    "apply(sum, 2, 3)"
   ]
  },
  {
   "cell_type": "markdown",
   "metadata": {},
   "source": [
    "### 2- Function can return function as output"
   ]
  },
  {
   "cell_type": "code",
   "execution_count": null,
   "metadata": {},
   "outputs": [],
   "source": [
    "def power(n):\n",
    "    def func(number):\n",
    "        return number**n\n",
    "    return func\n",
    "\n",
    "pow2 = power(2)\n",
    "pow3 = power(3)\n",
    "\n",
    "pow2(3), pow3(3)\n",
    "    "
   ]
  },
  {
   "cell_type": "markdown",
   "metadata": {},
   "source": [
    "### 3- Behavior : Combine of two "
   ]
  },
  {
   "cell_type": "code",
   "execution_count": null,
   "metadata": {},
   "outputs": [],
   "source": [
    "import time\n",
    "import random\n",
    "\n",
    "def stopwatch(f):\n",
    "    def func(*args, **kwargs):\n",
    "        tic = time.time()\n",
    "        result = f(*args, **kwargs)\n",
    "        print(f'this function took: {time.time() - tic}')\n",
    "        return result\n",
    "    return func\n",
    "\n"
   ]
  },
  {
   "cell_type": "markdown",
   "metadata": {},
   "source": [
    "### 4- Decorator"
   ]
  },
  {
   "cell_type": "code",
   "execution_count": null,
   "metadata": {},
   "outputs": [],
   "source": [
    "@stopwatch\n",
    "def sleep_random(s=1):\n",
    "    time.sleep(s + random.random()/100)\n",
    "    return 'Done !'\n",
    "sleep_random(1), sleep_random(2), sleep_random(3)\n"
   ]
  },
  {
   "cell_type": "markdown",
   "metadata": {},
   "source": [
    "### 5-Wraps"
   ]
  },
  {
   "cell_type": "code",
   "execution_count": null,
   "metadata": {},
   "outputs": [],
   "source": [
    "import time\n",
    "import random\n",
    "from functools import wraps \n",
    "\n",
    "\n",
    "def stopwatch(f):\n",
    "    @wraps(f)\n",
    "    def func(*args, **kwargs):\n",
    "        tic = time.time()\n",
    "        result = f(*args, **kwargs)\n",
    "        print(f\"this function took: {time.time() - tic}\")\n",
    "        return result\n",
    "    return func\n",
    "\n",
    "@stopwatch\n",
    "def sleep_random(s):\n",
    "    \"\"\"This function sleeps at least for `s` seconds.\"\"\"\n",
    "    return time.sleep(s + random.random())\n",
    "\n",
    "timed_sleep = stopwatch(sleep_random)"
   ]
  },
  {
   "cell_type": "markdown",
   "metadata": {},
   "source": [
    "### 6- Stacks"
   ]
  },
  {
   "cell_type": "code",
   "execution_count": null,
   "metadata": {},
   "outputs": [],
   "source": [
    "import time\n",
    "import random\n",
    "from functools import wraps \n",
    "\n",
    "\n",
    "def print_call1(f):\n",
    "    @wraps(f)\n",
    "    def func(*args, **kwargs):\n",
    "        result = f(*args, **kwargs)\n",
    "        print(f\"print call arguments 1: {args}\")\n",
    "        return result\n",
    "    return func\n",
    "\n",
    "def print_call2(f):\n",
    "    @wraps(f)\n",
    "    def func(*args, **kwargs):\n",
    "        result = f(*args, **kwargs)\n",
    "        print(f\"print call arguments 2: {args}\")\n",
    "        return result\n",
    "    return func\n",
    "\n",
    "@print_call1\n",
    "@print_call2\n",
    "def sleep_random(s):\n",
    "    \"\"\"This function sleeps at least for `s` seconds.\"\"\"\n",
    "    return time.sleep(s + random.random())\n",
    "\n",
    "sleep_random(1.5)"
   ]
  },
  {
   "cell_type": "markdown",
   "metadata": {},
   "source": [
    "### 7- inputs"
   ]
  },
  {
   "cell_type": "code",
   "execution_count": null,
   "metadata": {},
   "outputs": [],
   "source": [
    "import time\n",
    "import random\n",
    "from functools import wraps \n",
    "\n",
    "\n",
    "def loggg(show_time=True, show_name=True):\n",
    "    def stopwatch(f):\n",
    "        @wraps(f)\n",
    "        def func(*args, **kwargs):\n",
    "            tic= time.time()\n",
    "            result = f(*args, **kwargs)\n",
    "            log_text = 'call'\n",
    "            if show_name:\n",
    "                log_text = f\"{log_text} name: {f.__name__}\"\n",
    "            if show_time:\n",
    "                log_text = f\"{log_text} name: {f.__name__}\"\n",
    "            print(log_text)\n",
    "            return result\n",
    "        return func\n",
    "    return stopwatch\n",
    "\n",
    "@loggg(show_time=False, show_name=True)\n",
    "def sleep_random(s):\n",
    "    \"\"\" This function sleeps at least 's' seconds. \"\"\"\n",
    "    time.sleep(s + random.random()/100)\n",
    "    return \"Done!\"\n",
    "\n",
    "sleep_random(1)\n",
    "            "
   ]
  },
  {
   "cell_type": "markdown",
   "metadata": {},
   "source": [
    "### 7- Optional inputs"
   ]
  },
  {
   "cell_type": "code",
   "execution_count": null,
   "metadata": {},
   "outputs": [],
   "source": [
    "import time\n",
    "import random\n",
    "from functools import wraps \n",
    "\n",
    "\n",
    "def loggg(func_in=None,*,show_time=True, show_name=True):\n",
    "    def stopwatch(f):\n",
    "        @wraps(f)\n",
    "        def func(*args, **kwargs):\n",
    "            tic= time.time()\n",
    "            result = f(*args, **kwargs)\n",
    "            log_text = 'call'\n",
    "            if show_name:\n",
    "                log_text = f\"{log_text} name: {f.__name__}\"\n",
    "            if show_time:\n",
    "                log_text = f\"{log_text} name: {f.__name__}\"\n",
    "            print(log_text)\n",
    "            return result\n",
    "        return func\n",
    "    if func_in is None:\n",
    "        return stopwatch\n",
    "    else:\n",
    "        return stopwatch(func_in)\n",
    "\n",
    "@loggg(show_time=False, show_name=True)\n",
    "def sleep_random(s):\n",
    "    \"\"\" This function sleeps at least 's' seconds. \"\"\"\n",
    "    time.sleep(s + random.random()/100)\n",
    "    return \"Done!\"\n",
    "\n",
    "sleep_random(1)"
   ]
  },
  {
   "cell_type": "markdown",
   "metadata": {},
   "source": [
    "### 8- Cas pratiques : pandas-logger decorator"
   ]
  },
  {
   "cell_type": "code",
   "execution_count": null,
   "metadata": {},
   "outputs": [],
   "source": [
    "from functools import wraps\n",
    "import datetime as dt\n",
    "\n",
    "def log_step(func):\n",
    "    @wraps(func)\n",
    "    def wrapper(*args, **kwargs):\n",
    "        tic = dt.datetime.now()\n",
    "        result = func(*args, **kwargs)\n",
    "        time_taken = str(dt.datetime.now() - tic)\n",
    "        print(f\"just ran step {func.__name__} shape={result.shape} took {time_taken}s\")\n",
    "        return result\n",
    "    return wrapper"
   ]
  },
  {
   "cell_type": "code",
   "execution_count": null,
   "metadata": {},
   "outputs": [],
   "source": [
    "import pandas as pd\n",
    "\n",
    "df = pd.read_csv('../../bigmac.csv')\n",
    "\n",
    "@log_step\n",
    "def start_pipeline(dataf):\n",
    "    return dataf.copy()\n",
    "\n",
    "@log_step\n",
    "def set_dtypes(dataf):\n",
    "    return (dataf\n",
    "            .assign(date=lambda d: pd.to_datetime(d['date']))\n",
    "            .sort_values(['currency_code', 'date']))\n",
    "\n",
    "@log_step\n",
    "def remove_outliers(dataf, min_row_country=32):\n",
    "    countries = (dataf\n",
    "                .groupby('currency_code')\n",
    "                .agg(n=('name', 'count'))\n",
    "                .loc[lambda d: d['n'] >= min_row_country]\n",
    "                .index)\n",
    "    return (dataf\n",
    "            .loc[lambda d: d['currency_code'].isin(countries)])\n",
    "\n",
    "df_new = (df\n",
    "  .pipe(start_pipeline)\n",
    "  .pipe(set_dtypes)\n",
    "  .pipe(remove_outliers, min_row_country=20))"
   ]
  }
 ],
 "metadata": {
  "kernelspec": {
   "display_name": "Python 3",
   "language": "python",
   "name": "python3"
  },
  "language_info": {
   "codemirror_mode": {
    "name": "ipython",
    "version": 3
   },
   "file_extension": ".py",
   "mimetype": "text/x-python",
   "name": "python",
   "nbconvert_exporter": "python",
   "pygments_lexer": "ipython3",
   "version": "3.12.3"
  }
 },
 "nbformat": 4,
 "nbformat_minor": 2
}
